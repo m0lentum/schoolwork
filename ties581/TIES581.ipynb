{
 "cells": [
  {
   "cell_type": "markdown",
   "id": "9247db3f",
   "metadata": {},
   "source": [
    "# TIES581 Project work"
   ]
  },
  {
   "cell_type": "markdown",
   "id": "b8c85830",
   "metadata": {},
   "source": [
    "Mikael Myyrä  \n",
    "`mikael.b.myyra@jyu.fi`"
   ]
  },
  {
   "cell_type": "markdown",
   "id": "a0372ad9",
   "metadata": {},
   "source": [
    "In this document I implement and test Krylov subspace methods for\n",
    "linear systems using NumPy, based on the descriptions of Saad (2003)."
   ]
  },
  {
   "cell_type": "markdown",
   "id": "e5bebab4",
   "metadata": {},
   "source": [
    "First is some setup code to import libraries and test problems as well as build\n",
    "a tiny test runner to evaluate and compare methods.\n",
    "Following this are my implementations and short explanations of FOM, GMRES, and DIOM.\n",
    "At the end I run tests on these methods with and without preconditioning and\n",
    "briefly analyze the results."
   ]
  },
  {
   "cell_type": "markdown",
   "id": "e7ac1fab",
   "metadata": {},
   "source": [
    "# Test problems and library setup"
   ]
  },
  {
   "cell_type": "markdown",
   "id": "dca74f69",
   "metadata": {},
   "source": [
    "Using numpy for matrix utilities and scipy to read the Matrix Market matrix format."
   ]
  },
  {
   "cell_type": "markdown",
   "id": "dd0cc6de",
   "metadata": {},
   "source": [
    "The matrices are picked from the Harwell-Boeing and FIDAP collections on\n",
    "[Matrix Market](https://math.nist.gov/MatrixMarket/).\n",
    "Two of them, ORSIRR1 and FIDAP36, are also used by Saad (2003).\n",
    "FIDAP005 is a smaller problem that is helpful in early testing\n",
    "because you can reasonably print and read it."
   ]
  },
  {
   "cell_type": "markdown",
   "id": "medieval-denmark",
   "metadata": {},
   "source": [
    "Following Saad (2003) chapter 3.7, the right-hand side of $Ax = b$ is generated\n",
    "as $b = Ae$ where $e = (1,1,\\dots,1)^T$, and the initial guess $x_0$\n",
    "is a vector of random values. Saad does not specify the range\n",
    "or distribution of random values, so I am assuming the conventional\n",
    "uniform distribution in the range $[0, 1)$.\n"
   ]
  },
  {
   "cell_type": "code",
   "execution_count": 1,
   "id": "9de3678b",
   "metadata": {},
   "outputs": [],
   "source": [
    "import numpy as np\n",
    "import scipy as sp\n",
    "from scipy.io import mmread\n",
    "\n",
    "import math\n",
    "import time\n",
    "from dataclasses import dataclass\n",
    "from enum import Enum\n",
    "from typing import Callable\n",
    "from typing import Union\n",
    "\n",
    "def default_rhs(A) -> np.ndarray:\n",
    "    return A * np.ones((A.shape[1],))\n",
    "\n",
    "def random_guess(A) -> np.ndarray:\n",
    "    return np.random.random_sample((A.shape[1],))\n",
    "\n",
    "@dataclass\n",
    "class Equation:\n",
    "    name: str\n",
    "    A: np.ndarray\n",
    "    b: np.ndarray\n",
    "\n",
    "    def residual(self, x: np.ndarray) -> np.ndarray:\n",
    "        return self.b - self.A * x\n",
    "\n",
    "TEST_EQUATIONS: list[Equation] = [\n",
    "    Equation(name=name, A=mat, b=default_rhs(mat))\n",
    "    for name, mat in [\n",
    "        (\"FIDAP005\", mmread(\"test_matrices/fidap005.mtx\")),\n",
    "#(\"FIDAP036\", mmread(\"test_matrices/fidap036.mtx\")),\n",
    "        (\"GR3030\", mmread(\"test_matrices/gr_30_30.mtx\")),\n",
    "        (\"ORSIRR1\", mmread(\"test_matrices/orsirr_1.mtx\")),\n",
    "    ]\n",
    "]\n",
    "\n",
    "MAX_ITERATIONS = 300\n",
    "EPSILON = 1e-7\n",
    "\n",
    "@dataclass\n",
    "class RunResult:\n",
    "    ans: np.ndarray\n",
    "    iterations: int\n",
    "\n",
    "def test_run(method: Callable[[Equation, np.ndarray], np.ndarray], **kwargs):\n",
    "    \"\"\"Run the given method on all the test problems and print statistics.\"\"\"\n",
    "\n",
    "    # pretty-printing results as a table\n",
    "    CELL_SIZE = 15\n",
    "    def fmt_cell(x: Union[str, float]) -> str:\n",
    "        text = f\"{x:.3e}\" if isinstance(x, float) else str(x)\n",
    "        return text.center(CELL_SIZE)\n",
    "    def print_row(cells: list[Union[str, float]]):\n",
    "        print(\"|\".join([fmt_cell(c) for c in cells]))\n",
    "\n",
    "    headers = [\"matrix\", \"size\", \"pre-residual\", \"post-residual\", \"iterations\", \"time (ms)\"]\n",
    "    print_row(headers)\n",
    "    print_row([\"-\" * CELL_SIZE] * len(headers))\n",
    "    for eq in TEST_EQUATIONS:\n",
    "        ref = np.linalg.solve(eq.A.toarray(), eq.b)\n",
    "\n",
    "        x0 = random_guess(eq.A)\n",
    "        initial_resid = np.linalg.norm(eq.residual(x0))\n",
    "        start_time = time.perf_counter_ns()\n",
    "\n",
    "        result = method(eq, x0, **kwargs)\n",
    "\n",
    "        duration_ns = time.perf_counter_ns() - start_time\n",
    "        duration_ms = duration_ns // 1000000\n",
    "        resid = np.linalg.norm(eq.b - eq.A * result.ans)\n",
    "        size = f\"{eq.A.shape[0]} x {eq.A.shape[1]}\"\n",
    "        print_row([eq.name, size, initial_resid, resid, result.iterations, duration_ms])\n",
    "\n",
    "np.set_printoptions(precision=5)"
   ]
  },
  {
   "cell_type": "markdown",
   "id": "9f141907",
   "metadata": {},
   "source": [
    "# Methods and implementations"
   ]
  },
  {
   "cell_type": "markdown",
   "id": "4f65d5e6",
   "metadata": {},
   "source": [
    "## FOM and GMRES"
   ]
  },
  {
   "cell_type": "markdown",
   "id": "e0da203f",
   "metadata": {},
   "source": [
    "The Full Orthogonalization Method (FOM) and the Generalized Minimum Residual Method (GMRES)\n",
    "are two closely related algorithms to approximately solve\n",
    "a linear system $Ax = b$ using a Krylov subspace\n",
    "\n",
    "$$\n",
    "\\mathcal{K}_m = \\text{span}\\{r_0, Ar_0, A^2r_0, \\dots, A^{m-1}r_0\\}\n",
    "$$\n",
    "\n",
    "where $m$ is the dimension of the subspace and $r_0 = b - Ax_0$ is the residual\n",
    "of some initial guess $x_0$. $\\mathcal{K}_m$ is related to the original problem\n",
    "space by\n",
    "\n",
    "$$\n",
    "V_m^TAV_m = H_m + w_me_m^T\n",
    "$$\n",
    "\n",
    "where $V_m$ is an orthonormal basis of $\\mathcal{K}_m$, $H_m$ is a\n",
    "$m \\times m$ Hessenberg matrix, and $w_me_m^T$ is a one-dimensional vector.\n",
    "In these methods these matrices are computed with a method known as Arnoldi orthogonalization,\n",
    "the vector $w_me_m^T$ is ignored, and the resulting Hessenberg system is solved."
   ]
  },
  {
   "cell_type": "markdown",
   "id": "16ffa25d",
   "metadata": {},
   "source": [
    "The benefit of this approach is that a problem based on $H_m$ is\n",
    "smaller than the original problem (controllable by the choice of subspace dimension $m$)\n",
    "and its Hessenberg structure makes it easier to solve with direct methods.\n",
    "The tradeoff is that the smaller $m$ is, the less accurate the solution will be."
   ]
  },
  {
   "cell_type": "markdown",
   "id": "8244cf3c",
   "metadata": {},
   "source": [
    "Getting an accurate result in one iteration requires working in a\n",
    "high-dimensional Krylov subspace, which has a computational complexity of $O(m^2)$ due to\n",
    "orthogonalization requiring dot products with all previously computed basis vectors.\n",
    "Saad (2003) presents two variants to alleviate this, the Restarted and Incomplete versions."
   ]
  },
  {
   "cell_type": "markdown",
   "id": "73ced31c",
   "metadata": {},
   "source": [
    "I originally implemented FOM and GMRES separately, but because of how similar they are\n",
    "I chose to join them into one implementation as suggested by Saad (2003).\n",
    "The practical difference between FOM and GMRES is that FOM solves the system\n",
    "\n",
    "$$\n",
    "H_my = ||r_0||e_1\n",
    "$$\n",
    "\n",
    "where $H_m$ is an $m \\times m$ square matrix, whereas\n",
    "GMRES solves an overdetermined least-squares problem\n",
    "\n",
    "$$\n",
    "\\bar{H}_my = ||r_0||e_1\n",
    "$$\n",
    "\n",
    "where $\\bar{H}_m$ is a $(m+1) \\times m$ matrix with an additional row compared to FOM.\n",
    "In more theoretical terms, FOM is an orthogonal projection method with\n",
    "$\\mathcal{K} = \\mathcal{L} = \\mathcal{K}_m$\n",
    "and GMRES is an otherwise equivalent method but with $\\mathcal{L}$\n",
    "replaced with $A\\mathcal{K}_m$ (Saad 2003)."
   ]
  },
  {
   "cell_type": "markdown",
   "id": "worthy-speech",
   "metadata": {},
   "source": [
    "### Restarted FOM and GMRES"
   ]
  },
  {
   "cell_type": "markdown",
   "id": "84b443ba",
   "metadata": {},
   "source": [
    "Restarted FOM/GMRES simply runs the algorithm repeatedly with a small $m$\n",
    "until a desired precision is achieved."
   ]
  },
  {
   "cell_type": "markdown",
   "id": "e14a2e1e",
   "metadata": {},
   "source": [
    "This implementation also supports preconditioning with a constant operation $M^{-1}$\n",
    "(right-preconditioned variant). Running with the \"identity\" preconditioner\n",
    "is equivalent to running with no preconditioning. Results of these are\n",
    "compared in the \"tests\" section later.\n"
   ]
  },
  {
   "cell_type": "code",
   "execution_count": 2,
   "id": "cd33ff0c",
   "metadata": {
    "lines_to_next_cell": 2
   },
   "outputs": [],
   "source": [
    "class ArnoldiVariant(Enum):\n",
    "    FOM = 0\n",
    "    GMRES = 1\n",
    "\n",
    "\n",
    "# Preconditioner is a function that generates a preconditioning operation M^{-1}\n",
    "# from the problem being solved.\n",
    "# implementations are defined later\n",
    "Preconditioner = Callable[[Equation], Callable[[np.ndarray], np.ndarray]]\n",
    "\n",
    "\n",
    "def restarted_arnoldi(\n",
    "    eq: Equation,\n",
    "    x0: np.ndarray,\n",
    "    variant: ArnoldiVariant,\n",
    "    subsp_dim: int,\n",
    "    preconditioner: Preconditioner,\n",
    ") -> RunResult:\n",
    "    \"\"\"Approximately solve `Ax = b` using the Full Orthogonalization Method\n",
    "    or the Generalized Minimum Residual Method (right-preconditioned variant)\n",
    "    with Krylov subspace dimension `subsp_dim`.\"\"\"\n",
    "\n",
    "    # Krylov subspace can't be larger than the column count of A\n",
    "    if eq.A.shape[1] < subsp_dim:\n",
    "        subsp_dim = eq.A.shape[1]\n",
    "\n",
    "    precond_op = preconditioner(eq)\n",
    "\n",
    "    # stop condition from Saad (2003): reduce residual norm by a factor of 10^7\n",
    "    initial_resid_norm = np.linalg.norm(eq.residual(x0))\n",
    "    stop_resid_limit = 1e-7 * initial_resid_norm\n",
    "    # flag needed to break the outer iteration from an inner loop\n",
    "    has_converged = False\n",
    "    x = np.copy(x0)\n",
    "    iter_count = 0\n",
    "    while not has_converged and iter_count < MAX_ITERATIONS:\n",
    "        iter_count += 1\n",
    "        resid = eq.residual(x)\n",
    "        resid_norm = np.linalg.norm(resid)\n",
    "        # it's possible for the algorithm to diverge to infinity. bail if that happens\n",
    "        # (in the test cases, this happens to FIDAP036 with FOM)\n",
    "        if math.isinf(resid_norm):\n",
    "            break\n",
    "        # matrices stored as arrays, built incrementally\n",
    "        # first basis vector of the Krylov subspace based on the residual\n",
    "        V = [resid / resid_norm]\n",
    "        # the upper diagonal form of the Hessenberg matrix H\n",
    "        R = []\n",
    "        # `g` in the equation `Hy = g` (in FOM)\n",
    "        # or the least-squares problem `argmin ||g - Hy||` (in GMRES)\n",
    "        rhs = [resid_norm]\n",
    "        # `s` and `c` in the rotation matrices used transform H into upper triangular form\n",
    "        rot_s = []\n",
    "        rot_c = []\n",
    "\n",
    "        for col in range(subsp_dim):\n",
    "            # the next vector in the preconditioned Krylov subspace's basis\n",
    "            # (before orthogonalization and normalization)\n",
    "            next_v = eq.A * precond_op(V[-1])\n",
    "            # vector of the nonzero entries of the next column of R.\n",
    "            # we first compute the corresponding column of H into this vector\n",
    "            # and then apply rotations to arrive at R\n",
    "            next_r = np.zeros(col+1)\n",
    "            # orthogonalize the new basis vector and populate H (next_r)\n",
    "            for prev_col in range(len(V)):\n",
    "                next_r[prev_col] = next_v.dot(V[prev_col])\n",
    "                next_v -= next_r[prev_col] * V[prev_col]\n",
    "            # the entry of H below the diagonal, which we will eliminate with a rotation later\n",
    "            h_subdiag = np.linalg.norm(next_v)\n",
    "\n",
    "            # apply previous plane rotations to the new column of H\n",
    "            for row in range(len(rot_s)):\n",
    "                h1 = rot_c[row] * next_r[row] + rot_s[row] * next_r[row+1]\n",
    "                h2 = -rot_s[row] * next_r[row] + rot_c[row] * next_r[row+1]\n",
    "                next_r[row] = h1\n",
    "                next_r[row+1] = h2\n",
    "\n",
    "            # last rotation is skipped in FOM\n",
    "            if variant == ArnoldiVariant.FOM and col == subsp_dim - 1:\n",
    "                R.append(next_r)\n",
    "                continue\n",
    "\n",
    "            # compute and apply the next plane rotation matrix\n",
    "            denom = math.sqrt(next_r[-1]**2 + h_subdiag**2)\n",
    "            next_s = h_subdiag / denom\n",
    "            next_c = next_r[-1] / denom\n",
    "            # left-multiply H by it\n",
    "            r_diag = next_c * next_r[-1] + next_s * h_subdiag\n",
    "            # debug: check that this indeed eliminates the subdiagonal entry of H\n",
    "            assert abs(-next_s * next_r[-1] + next_c * h_subdiag) < EPSILON\n",
    "            next_r[-1] = r_diag\n",
    "            # also left-multiply rhs by it (after appending a zero to it)\n",
    "            next_rhs = -next_s * rhs[-1]\n",
    "            rhs[-1] = next_c * rhs[-1]\n",
    "\n",
    "            R.append(next_r)\n",
    "            # the absolute value of `next_rhs` is the residual norm at this step.\n",
    "            # if it's low enough, we can stop and move on to solving the triangular system\n",
    "            if abs(next_rhs) < stop_resid_limit or math.isinf(next_rhs):\n",
    "                has_converged = True\n",
    "                break\n",
    "\n",
    "            rot_s.append(next_s)\n",
    "            rot_c.append(next_c)\n",
    "            if col < subsp_dim-1:\n",
    "                rhs.append(next_rhs)\n",
    "                V.append(next_v / h_subdiag)\n",
    "\n",
    "        # backwards substitution to solve the upper triangular system `Ry = g`\n",
    "        y = np.zeros(len(R))\n",
    "        for row in reversed(range(len(y))):\n",
    "            y[row] = (\n",
    "                (1.0 / R[row][row])\n",
    "                * (rhs[row]\n",
    "                    - sum([R[col][row] * y[col] for col in range(row + 1, len(y))]))\n",
    "            )\n",
    "\n",
    "        V = np.array(V).T\n",
    "        x += precond_op(V @ y)\n",
    "\n",
    "    return RunResult(\n",
    "        ans=x,\n",
    "        iterations=iter_count,\n",
    "    )"
   ]
  },
  {
   "cell_type": "markdown",
   "id": "ce7940d6",
   "metadata": {},
   "source": [
    "### Direct Incomplete Orthogonalization Method (DIOM)"
   ]
  },
  {
   "cell_type": "markdown",
   "id": "427c65a4",
   "metadata": {},
   "source": [
    "The basic idea of incomplete orthogonalization is simple: reduce the cost\n",
    "of orthogonalization by only comparing against the last $k$ computed basis vectors.\n",
    "However, this only reduces computational costs while keeping memory costs\n",
    "the same. With some additional work, a special LU factorization can be created\n",
    "that does not need to store the entire basis $V_m$ in memory.\n",
    "This is the Direct variant of FOM detailed in chapter 6.4.2 of Saad (2003)."
   ]
  },
  {
   "cell_type": "markdown",
   "id": "4b2a151e",
   "metadata": {},
   "source": [
    "The same idea can be made to work with GMRES as well, but DIOM already took me 10+ hours\n",
    "to get right. Thus, in the interest of getting this project done in a reasonable amount of time,\n",
    "I chose to skip to preconditioning techniques at this point.\n"
   ]
  },
  {
   "cell_type": "code",
   "execution_count": 3,
   "id": "13e34bdd",
   "metadata": {
    "lines_to_next_cell": 0
   },
   "outputs": [],
   "source": [
    "from collections import deque\n",
    "\n",
    "def direct_iom(eq: Equation, x0: np.ndarray, ortho_count: int) -> RunResult:\n",
    "    \"\"\"Approximately solve `Ax = b` using the Direct Incomplete\n",
    "    Orthogonalization Method, orthogonalizing against `ortho_count` vectors.\"\"\"\n",
    "\n",
    "    initial_resid = eq.residual(x0)\n",
    "    initial_resid_norm = np.linalg.norm(initial_resid)\n",
    "    stop_resid_limit = 1e-7 * initial_resid_norm\n",
    "\n",
    "    # the last `ortho_count` vectors of the basis of K_m.\n",
    "    # deque automatically handles dropping values we don't need anymore\n",
    "    V = deque([], ortho_count)\n",
    "    # first basis vector from the initial residual\n",
    "    V.append(initial_resid / initial_resid_norm)\n",
    "    # P = VU^{-1}\n",
    "    # one less entry because the `m`th vector is computed from `k-1` previous ones\n",
    "    P = deque([], ortho_count - 1)\n",
    "    # lower triangular part of the LU decomposition of H\n",
    "    # one entry less because the final column does not have the subdiagonal\n",
    "    L = deque([], ortho_count - 1)\n",
    "    # zeta = L^{-1}(\\beta e_1)\n",
    "    # only one iteration of zeta needs to be stored\n",
    "    zeta = 0\n",
    "    # the rest of the state involved (H and U)\n",
    "    # can be computed one vector at a time and don't need to be stored\n",
    "    \n",
    "    x = np.copy(x0)\n",
    "    step_idx = 0\n",
    "    # stop if we cover all of the dimension of A without converging\n",
    "    while step_idx < eq.A.shape[1]:\n",
    "        # check convergence\n",
    "        resid_norm = np.linalg.norm(eq.residual(x))\n",
    "        if resid_norm < stop_resid_limit or math.isinf(resid_norm):\n",
    "            break\n",
    "\n",
    "        # we don't actually need to know the indices where we are in the \"full\" matrix,\n",
    "        # indexing into the incomplete arrays and vectors in the right way\n",
    "        # gives us all the information we need\n",
    "\n",
    "        next_v = eq.A * V[-1]\n",
    "        # only store the nonzero entries of H, of which there are at most\n",
    "        # `ortho_count + 1` because H is banded Hessenberg\n",
    "        next_h = np.zeros(len(V) + 1)\n",
    "        for col in range(len(V)):\n",
    "            next_h[col] = next_v.dot(V[col])\n",
    "            next_v -= next_h[col] * V[col]\n",
    "        # entry of H below the main diagonal\n",
    "        next_h[len(V)] = np.linalg.norm(next_v)\n",
    "        next_v /= next_h[len(V)]\n",
    "        # next_v is V_{m+1} which isn't used until next iteration,\n",
    "        # so don't append it to V until the end of the loop\n",
    "\n",
    "        if step_idx == 0:\n",
    "            # first step is a special case where the subdiagonal entry of L does not exist yet\n",
    "            zeta = initial_resid_norm\n",
    "            next_u = np.copy(next_h[0:-1])\n",
    "            # compute the L value that will be used in the next step now\n",
    "            # so we don't have to store an additional column of H\n",
    "            L.append(next_h[-1] / next_u[-1])\n",
    "        else:\n",
    "            # LU factorization based on notes below\n",
    "            # once again only storing nonzero entries in `ortho_count`-vectors for U\n",
    "            # and scalars for L.\n",
    "            next_u = np.copy(next_h[0:-1])\n",
    "            for i in range(1, len(next_u)):\n",
    "                next_u[i] -= L[i-1] * next_u[i-1]\n",
    "\n",
    "            if abs(next_u[-1]) < EPSILON:\n",
    "                break\n",
    "\n",
    "            zeta *= -L[-1]\n",
    "\n",
    "            # again, this value of L will be used in the next step\n",
    "            L.append(next_h[-1] / next_u[-1])\n",
    "\n",
    "        next_p = (\n",
    "            (1.0 / next_u[-1])\n",
    "            * (V[-1] - sum([next_u[i] * P[i] for i in range(len(next_u) - 1)]))\n",
    "        )\n",
    "\n",
    "        P.append(next_p)\n",
    "\n",
    "        V.append(next_v)\n",
    "\n",
    "        x += zeta * next_p\n",
    "\n",
    "        step_idx += 1\n",
    "\n",
    "    return RunResult(\n",
    "        ans=x,\n",
    "        iterations=step_idx,\n",
    "    )"
   ]
  },
  {
   "cell_type": "markdown",
   "id": "1cd07943",
   "metadata": {},
   "source": []
  },
  {
   "cell_type": "markdown",
   "id": "11c257f3",
   "metadata": {},
   "source": [
    "#### Updating the LU decomposition\n",
    "\n",
    "Saad (2003) doesn't explicitly say how the LU decomposition of $H_m$ is computed,\n",
    "so I'm going to try and figure it out myself. Say we have $k = 3$ and\n",
    "at step $m = 10$ of the algorithm,\n",
    "\n",
    "$$\n",
    "H_{10} = \\begin{bmatrix}\n",
    "\\ddots & \\\\\n",
    "& h_{6,8} \\\\\n",
    "& h_{7,8} & h_{7,9} \\\\\n",
    "& h_{8,8} & h_{8,9} & h_{8,10} \\\\\n",
    "& h_{9,8} & h_{9,9} & h_{9,10} \\\\\n",
    "& & h_{10,9} & h_{10,10} \\\\\n",
    "& & & h_{11,10} \\\\\n",
    "\\end{bmatrix}\n",
    "$$\n",
    "\n",
    "We've just computed the last column of $H_{10}$ and we also have the matrices\n",
    "\n",
    "$$\n",
    "L_{9} = \\begin{bmatrix}\n",
    "\\ddots & \\\\\n",
    "& l_{7,6} & 1 \\\\\n",
    "& & l_{8,7} & 1 \\\\\n",
    "& & & l_{9,8} & 1 \\\\\n",
    "\\end{bmatrix}\n",
    "$$\n",
    "\n",
    "and\n",
    "\n",
    "$$\n",
    "U_9 = \\begin{bmatrix}\n",
    "\\ddots & \\\\\n",
    "& u_{5,7} \\\\\n",
    "& u_{6,7} & u_{6,8} \\\\\n",
    "& u_{7,7} & u_{7,8} & u_{7,9} \\\\\n",
    "& & u_{8,8} & u_{8,9} \\\\\n",
    "& & & u_{9,9} \\\\\n",
    "\\end{bmatrix}.\n",
    "$$"
   ]
  },
  {
   "cell_type": "markdown",
   "id": "8a3d4910",
   "metadata": {},
   "source": [
    "For the second to last subdiagonal entry of $H_{10}$ which we haven't yet considered\n",
    "in the LU decomposition, we have\n",
    "\n",
    "$$\n",
    "h_{10,9} = l_{10,9}u_{9,9}\n",
    "$$\n",
    "\n",
    "from which we get the new subdiagonal entry of $L_{10}$\n",
    "\n",
    "$$\n",
    "l_{10,9} = \\frac{h_{10,9}}{u_{9,9}}.\n",
    "$$\n",
    "\n",
    "Additionally the equations for the final column of $L_{10}U_{10} = H_{10}$ are\n",
    "\n",
    "$$\n",
    "\\begin{align*}\n",
    "h_{8,10} &= l_{8,7}u_{7,10} + u_{8,10} = u_{8,10} \\iff u_{8,10} = h_{8,10} \\\\\n",
    "h_{9,10} &= l_{9,8}u_{8,10} + u_{9,10} \\iff u_{9,10} = h_{9,10} - l_{9,8}u_{8,10} \\\\\n",
    "h_{10,10} &= l_{10,9}u_{9,10} + u_{10,10} \\iff u_{10,10} = h_{10,10} - l_{10,9}u_{9,10} \\\\\n",
    "\\end{align*}\n",
    "$$\n",
    "\n",
    "From this we can deduce an iterative algorithm for the elements of $u_{*,10}$.\n",
    "\n",
    "$$\n",
    "\\begin{align*}\n",
    "u_{m-k,m} &= h_{m-k,m} \\\\\n",
    "u_{i,m} &= h_{i,m} - l_{i,i-1}u_{i-1,m} \\text{ for } i = m-k+1, \\dots, m \\\\\n",
    "\\end{align*}\n",
    "$$"
   ]
  },
  {
   "cell_type": "markdown",
   "id": "8741ff14",
   "metadata": {},
   "source": [
    "# Preconditioners"
   ]
  },
  {
   "cell_type": "markdown",
   "id": "6515ea0d",
   "metadata": {},
   "source": [
    "## Identity"
   ]
  },
  {
   "cell_type": "markdown",
   "id": "89814bc6",
   "metadata": {},
   "source": [
    "This \"preconditioner\" sets $M = I$, representing the unpreconditioned version of the algorithm.\n",
    "This way we can use the preconditioned implementation of GMRES/FOM also for testing the\n",
    "unpreconditioned variants.\n"
   ]
  },
  {
   "cell_type": "code",
   "execution_count": 4,
   "id": "2f6f70f8",
   "metadata": {
    "lines_to_next_cell": 2
   },
   "outputs": [],
   "source": [
    "def p_identity(eq: Equation) -> Callable[[np.ndarray], np.ndarray]:\n",
    "    return lambda x: x"
   ]
  },
  {
   "cell_type": "markdown",
   "id": "aaf765ad",
   "metadata": {},
   "source": [
    "## Symmetric Gauss-Seidel"
   ]
  },
  {
   "cell_type": "markdown",
   "id": "4c4b29cf",
   "metadata": {},
   "source": [
    "The SGS preconditioner is equivalent to executing a single iteration of the\n",
    "Symmetric Gauss-Seidel algorithm. The preconditioning matrix $M_{SGS}$ is equal\n",
    "to $LU = (I - ED^{-1})(D - F)$ where $D$ is the diagonal of $A$ and $-F$ and $-E$ its\n",
    "strictly upper and lower triangular parts, respectively.\n",
    "$L$ is lower triangular, consisting of the strictly lower triangular part of A divided by its diagonal\n",
    "and ones on the main diagonal. $U$ is upper triangular, consisting of the upper triangular part of $A$\n",
    "including its main diagonal."
   ]
  },
  {
   "cell_type": "markdown",
   "id": "49eac311",
   "metadata": {},
   "source": [
    "The preconditioning operation $M^{-1}x$ is computed by solving for $z$ in\n",
    "$Mz = x$, which can be done with forward and backward substitution thanks to the LU decomposition.\n"
   ]
  },
  {
   "cell_type": "code",
   "execution_count": 5,
   "id": "cb97223c",
   "metadata": {
    "lines_to_next_cell": 2
   },
   "outputs": [],
   "source": [
    "def p_symmetric_gauss_seidel(eq: Equation) -> Callable[[np.ndarray], np.ndarray]:\n",
    "    # transform A to Compressed Sparse Row format\n",
    "    A = eq.A.tocsr()\n",
    "    diag = A.diagonal(0)\n",
    "\n",
    "    def impl(x: np.ndarray) -> np.ndarray:\n",
    "        ans = np.copy(x)\n",
    "        # forward solve of (I - ED^{-1})y = x\n",
    "        for row in range(len(x)):\n",
    "            for ptr in range(A.indptr[row], A.indptr[row+1]):\n",
    "                col_idx = A.indices[ptr]\n",
    "                if col_idx >= row:\n",
    "                    break\n",
    "                # FIDAP036 has some zeroes on the diagonal. ignore the corresponding elements\n",
    "                if diag[col_idx] == 0.0:\n",
    "                    continue\n",
    "                ans[row] -= ans[col_idx] * A.data[ptr] / diag[col_idx]\n",
    "            \n",
    "        # backward solve of (D - F)z = y\n",
    "        for row in reversed(range(len(x))):\n",
    "            if diag[row] == 0.0:\n",
    "                continue\n",
    "            for ptr in range(A.indptr[row], A.indptr[row+1]):\n",
    "                col_idx = A.indices[ptr]\n",
    "                if col_idx <= row:\n",
    "                    continue\n",
    "                col_idx = A.indices[ptr]\n",
    "                ans[row] -= ans[col_idx] * A.data[ptr]\n",
    "            ans[row] /= diag[row]\n",
    "\n",
    "        return ans\n",
    "\n",
    "    return impl"
   ]
  },
  {
   "cell_type": "markdown",
   "id": "02e74d1c",
   "metadata": {},
   "source": [
    "# Test runs"
   ]
  },
  {
   "cell_type": "markdown",
   "id": "dd30aa1d",
   "metadata": {},
   "source": [
    "TODO: reorganize these into per-problem instead of per-method\n",
    "for easier comparison of results"
   ]
  },
  {
   "cell_type": "markdown",
   "id": "e98ca7bf",
   "metadata": {},
   "source": [
    "## FOM"
   ]
  },
  {
   "cell_type": "code",
   "execution_count": 6,
   "id": "5e2ad08b",
   "metadata": {
    "lines_to_next_cell": 2
   },
   "outputs": [
    {
     "name": "stdout",
     "output_type": "stream",
     "text": [
      "Subspace dimension: 10\n",
      "     matrix    |      size     |  pre-residual | post-residual |   iterations  |   time (ms)   \n",
      "---------------|---------------|---------------|---------------|---------------|---------------\n",
      "    FIDAP005   |    27 x 27    |   2.587e+06   |   1.356e+01   |      300      |      201      \n",
      "     GR3030    |   900 x 900   |   7.619e+01   |   7.434e-06   |       12      |       10      \n",
      "    ORSIRR1    |  1030 x 1030  |   4.918e+05   |   3.159e+01   |      300      |      420      \n",
      "\n",
      "Subspace dimension: 30\n",
      "     matrix    |      size     |  pre-residual | post-residual |   iterations  |   time (ms)   \n",
      "---------------|---------------|---------------|---------------|---------------|---------------\n",
      "    FIDAP005   |    27 x 27    |   2.656e+06   |   2.192e-01   |       1       |       2       \n",
      "     GR3030    |   900 x 900   |   7.552e+01   |   7.390e-06   |       3       |       10      \n",
      "    ORSIRR1    |  1030 x 1030  |   5.314e+05   |   5.301e-02   |       91      |      444      \n",
      "\n",
      "Subspace dimension: 50\n",
      "     matrix    |      size     |  pre-residual | post-residual |   iterations  |   time (ms)   \n",
      "---------------|---------------|---------------|---------------|---------------|---------------\n",
      "    FIDAP005   |    27 x 27    |   2.307e+06   |   2.047e-01   |       1       |       2       \n",
      "     GR3030    |   900 x 900   |   7.755e+01   |   7.392e-06   |       2       |       12      \n",
      "    ORSIRR1    |  1030 x 1030  |   5.538e+05   |   5.499e-02   |       18      |      199      \n",
      "\n"
     ]
    }
   ],
   "source": [
    "for dim in [10, 30, 50]:\n",
    "    print(f\"Subspace dimension: {dim}\")\n",
    "    test_run(\n",
    "        restarted_arnoldi,\n",
    "        variant=ArnoldiVariant.FOM,\n",
    "        subsp_dim=dim,\n",
    "        preconditioner=p_identity,\n",
    "    )\n",
    "    print(\"\")"
   ]
  },
  {
   "cell_type": "markdown",
   "id": "9d431f6c",
   "metadata": {},
   "source": [
    "## DIOM\n"
   ]
  },
  {
   "cell_type": "code",
   "execution_count": 7,
   "id": "fc2447bd",
   "metadata": {
    "lines_to_next_cell": 2,
    "scrolled": false
   },
   "outputs": [
    {
     "name": "stdout",
     "output_type": "stream",
     "text": [
      "Orthogonal vectors: 5\n",
      "     matrix    |      size     |  pre-residual | post-residual |   iterations  |   time (ms)   \n",
      "---------------|---------------|---------------|---------------|---------------|---------------\n",
      "    FIDAP005   |    27 x 27    |   2.844e+06   |   2.245e+01   |       27      |       3       \n",
      "     GR3030    |   900 x 900   |   7.707e+01   |   5.706e-06   |       58      |       8       \n",
      "    ORSIRR1    |  1030 x 1030  |   6.157e+05   |   9.571e+00   |      1030     |      142      \n",
      "\n",
      "Orthogonal vectors: 10\n",
      "     matrix    |      size     |  pre-residual | post-residual |   iterations  |   time (ms)   \n",
      "---------------|---------------|---------------|---------------|---------------|---------------\n",
      "    FIDAP005   |    27 x 27    |   2.370e+06   |   2.455e+01   |       27      |       4       \n",
      "     GR3030    |   900 x 900   |   7.779e+01   |   6.882e-06   |       57      |       10      \n",
      "    ORSIRR1    |  1030 x 1030  |   4.772e+05   |   7.825e+01   |      1030     |      188      \n",
      "\n",
      "Orthogonal vectors: 50\n",
      "     matrix    |      size     |  pre-residual | post-residual |   iterations  |   time (ms)   \n",
      "---------------|---------------|---------------|---------------|---------------|---------------\n",
      "    FIDAP005   |    27 x 27    |   3.827e+06   |   2.149e-01   |       19      |       3       \n",
      "     GR3030    |   900 x 900   |   7.784e+01   |   6.621e-06   |       57      |       21      \n",
      "    ORSIRR1    |  1030 x 1030  |   5.632e+05   |   2.245e+02   |      1030     |      584      \n",
      "\n"
     ]
    }
   ],
   "source": [
    "for ortho_count in [5, 10, 50]:\n",
    "    print(f\"Orthogonal vectors: {ortho_count}\")\n",
    "    test_run(direct_iom, ortho_count=ortho_count)\n",
    "    print(\"\")"
   ]
  },
  {
   "cell_type": "markdown",
   "id": "d5dcd6e6",
   "metadata": {},
   "source": [
    "## GMRES"
   ]
  },
  {
   "cell_type": "code",
   "execution_count": 8,
   "id": "9a780089",
   "metadata": {
    "lines_to_next_cell": 2
   },
   "outputs": [
    {
     "name": "stdout",
     "output_type": "stream",
     "text": [
      "Subspace dimension: 10\n",
      "     matrix    |      size     |  pre-residual | post-residual |   iterations  |   time (ms)   \n",
      "---------------|---------------|---------------|---------------|---------------|---------------\n",
      "    FIDAP005   |    27 x 27    |   1.361e+06   |   2.772e+00   |      300      |      215      \n",
      "     GR3030    |   900 x 900   |   7.295e+01   |   7.021e-06   |       15      |       13      \n",
      "    ORSIRR1    |  1030 x 1030  |   5.954e+05   |   1.504e+00   |      300      |      319      \n",
      "\n",
      "     matrix    |      size     |  pre-residual | post-residual |   iterations  |   time (ms)   \n",
      "---------------|---------------|---------------|---------------|---------------|---------------\n",
      "    FIDAP005   |    27 x 27    |   3.516e+06   |   3.404e-01   |       10      |      150      \n",
      "     GR3030    |   900 x 900   |   7.327e+01   |   6.694e-06   |       4       |      1591     \n",
      "    ORSIRR1    |  1030 x 1030  |   5.058e+05   |   5.049e-02   |       20      |      7345     \n",
      "\n",
      "Subspace dimension: 30\n",
      "     matrix    |      size     |  pre-residual | post-residual |   iterations  |   time (ms)   \n",
      "---------------|---------------|---------------|---------------|---------------|---------------\n",
      "    FIDAP005   |    27 x 27    |   3.684e+06   |   2.845e-01   |       1       |       2       \n",
      "     GR3030    |   900 x 900   |   7.406e+01   |   7.311e-06   |       3       |       13      \n",
      "    ORSIRR1    |  1030 x 1030  |   5.879e+05   |   5.869e-02   |       72      |      364      \n",
      "\n",
      "     matrix    |      size     |  pre-residual | post-residual |   iterations  |   time (ms)   \n",
      "---------------|---------------|---------------|---------------|---------------|---------------\n",
      "    FIDAP005   |    27 x 27    |   3.800e+06   |   3.169e-01   |       1       |       32      \n",
      "     GR3030    |   900 x 900   |   7.493e+01   |   5.085e-06   |       1       |      1007     \n",
      "    ORSIRR1    |  1030 x 1030  |   5.676e+05   |   5.605e-02   |       4       |      4203     \n",
      "\n",
      "Subspace dimension: 50\n",
      "     matrix    |      size     |  pre-residual | post-residual |   iterations  |   time (ms)   \n",
      "---------------|---------------|---------------|---------------|---------------|---------------\n",
      "    FIDAP005   |    27 x 27    |   1.884e+06   |   1.469e-01   |       1       |       2       \n",
      "     GR3030    |   900 x 900   |   7.535e+01   |   5.021e-06   |       2       |       20      \n",
      "    ORSIRR1    |  1030 x 1030  |   4.783e+05   |   4.762e-02   |       32      |      359      \n",
      "\n",
      "     matrix    |      size     |  pre-residual | post-residual |   iterations  |   time (ms)   \n",
      "---------------|---------------|---------------|---------------|---------------|---------------\n",
      "    FIDAP005   |    27 x 27    |   3.193e+06   |   3.193e-01   |       1       |       32      \n",
      "     GR3030    |   900 x 900   |   7.791e+01   |   6.752e-06   |       1       |      980      \n",
      "    ORSIRR1    |  1030 x 1030  |   4.317e+05   |   4.129e-02   |       3       |      3637     \n",
      "\n"
     ]
    }
   ],
   "source": [
    "for dim in [10, 30, 50]:\n",
    "    print(f\"Subspace dimension: {dim}\")\n",
    "    test_run(\n",
    "        restarted_arnoldi,\n",
    "        variant=ArnoldiVariant.GMRES,\n",
    "        subsp_dim=dim,\n",
    "        preconditioner=p_identity,\n",
    "    )\n",
    "    print(\"\")\n",
    "    test_run(\n",
    "        restarted_arnoldi,\n",
    "        variant=ArnoldiVariant.GMRES,\n",
    "        subsp_dim=dim,\n",
    "        preconditioner=p_symmetric_gauss_seidel,\n",
    "    )\n",
    "    print(\"\")"
   ]
  },
  {
   "cell_type": "markdown",
   "id": "a30a5614",
   "metadata": {},
   "source": [
    "# Sources"
   ]
  },
  {
   "cell_type": "markdown",
   "id": "placed-accused",
   "metadata": {},
   "source": [
    "Saad, Y. (2003). Iterative Methods for Sparse Linear Systems."
   ]
  }
 ],
 "metadata": {
  "kernelspec": {
   "display_name": "Python 3",
   "language": "python",
   "name": "python3"
  },
  "language_info": {
   "codemirror_mode": {
    "name": "ipython",
    "version": 3
   },
   "file_extension": ".py",
   "mimetype": "text/x-python",
   "name": "python",
   "nbconvert_exporter": "python",
   "pygments_lexer": "ipython3",
   "version": "3.9.12"
  }
 },
 "nbformat": 4,
 "nbformat_minor": 5
}
