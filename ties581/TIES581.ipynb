{
 "cells": [
  {
   "cell_type": "markdown",
   "id": "medieval-denmark",
   "metadata": {},
   "source": [
    "# TIES581 Project work\n",
    "\n",
    "Mikael Myyrä  \n",
    "`mikael.b.myyra@jyu.fi`\n",
    "\n",
    "In this document I implement and test Krylov subspace methods for\n",
    "linear systems using NumPy, based on the descriptions of Saad (2003).\n",
    "\n",
    "# Test problems and library setup\n",
    "\n",
    "Using numpy for matrix utilities and scipy to read the Harwell-Boeing matrix format.\n",
    "\n",
    "The matrices are picked from the Harwell-Boeing and FIDAP collections on\n",
    "[Matrix Market](https://math.nist.gov/MatrixMarket/).\n",
    "Two of them, ORSIRR1 and FIDAP36, are also used by Saad (2003).\n",
    "FIDAP005 is a smaller problem that is helpful in early testing\n",
    "because you can reasonably print and read it.\n",
    "\n",
    "Following Saad (2003) chapter 3.7, the right-hand side of $Ax = b$ is generated\n",
    "as $b = Ae$ where $e = (1,1,\\dots,1)^T$, and the initial guess $x_0$\n",
    "is a vector of random values. Saad does not specify the range\n",
    "or distribution of random values, so I am assuming the conventional\n",
    "uniform distribution in the range $[0, 1)$."
   ]
  },
  {
   "cell_type": "code",
   "execution_count": 1,
   "id": "9de3678b",
   "metadata": {},
   "outputs": [],
   "source": [
    "import numpy as np\n",
    "import scipy as sp\n",
    "from scipy.io import mmread\n",
    "\n",
    "import math\n",
    "import time\n",
    "from dataclasses import dataclass\n",
    "from typing import Callable\n",
    "from typing import Union\n",
    "\n",
    "def default_rhs(A) -> np.ndarray:\n",
    "    return A * np.ones((A.shape[1],))\n",
    "\n",
    "def random_guess(A) -> np.ndarray:\n",
    "    return np.random.random_sample((A.shape[1],))\n",
    "\n",
    "@dataclass\n",
    "class Equation:\n",
    "    name: str\n",
    "    A: np.ndarray\n",
    "    b: np.ndarray\n",
    "\n",
    "    def residual(self, x: np.ndarray) -> np.ndarray:\n",
    "        return self.b - self.A * x\n",
    "\n",
    "TEST_EQUATIONS: list[Equation] = [\n",
    "    Equation(name=name, A=mat, b=default_rhs(mat))\n",
    "    for name, mat in [\n",
    "        (\"FIDAP005\", mmread(\"test_matrices/fidap005.mtx\")),\n",
    "        (\"FIDAP036\", mmread(\"test_matrices/fidap036.mtx\")),\n",
    "        (\"GR3030\", mmread(\"test_matrices/gr_30_30.mtx\")),\n",
    "        (\"ORSIRR1\", mmread(\"test_matrices/orsirr_1.mtx\")),\n",
    "    ]\n",
    "]\n",
    "\n",
    "MAX_ITERATIONS = 300\n",
    "\n",
    "@dataclass\n",
    "class RunResult:\n",
    "    ans: np.ndarray\n",
    "    iterations: int\n",
    "\n",
    "def test_run(method: Callable[[Equation, np.ndarray], np.ndarray], **kwargs):\n",
    "    \"\"\"Run the given method on all the test problems and print statistics.\"\"\"\n",
    "\n",
    "    # pretty-printing results as a table\n",
    "    CELL_SIZE = 16\n",
    "    def fmt_cell(x: Union[str, float]) -> str:\n",
    "        text = f\"{x:.3e}\" if isinstance(x, float) else str(x)\n",
    "        return text.center(CELL_SIZE)\n",
    "    def print_row(cells: list[Union[str, float]]):\n",
    "        print(\"|\".join([fmt_cell(c) for c in cells]))\n",
    "\n",
    "    headers = [\"matrix\", \"residual norm\", \"iterations\", \"time (ms)\"]\n",
    "    print_row(headers)\n",
    "    print_row([\"-\" * CELL_SIZE] * len(headers))\n",
    "    for eq in TEST_EQUATIONS:\n",
    "        start_time = time.perf_counter_ns()\n",
    "        result = method(eq, random_guess(eq.A), **kwargs)\n",
    "        duration_ns = time.perf_counter_ns() - start_time\n",
    "        duration_ms = duration_ns // 1000000\n",
    "        resid = np.linalg.norm(eq.b - eq.A * result.ans)\n",
    "        print_row([eq.name, resid, result.iterations, duration_ms])\n",
    "\n",
    "np.set_printoptions(precision=5)"
   ]
  },
  {
   "cell_type": "markdown",
   "id": "9f141907",
   "metadata": {},
   "source": [
    "# Methods\n",
    "\n",
    "## Full Orthogonalization Method (FOM)"
   ]
  },
  {
   "cell_type": "markdown",
   "id": "4f65d5e6",
   "metadata": {},
   "source": [
    "FOM (or Arnoldi's Method) is an algorithm to approximately solve\n",
    "a linear system $Ax = b$ using a Krylov subspace\n",
    "\n",
    "$$\n",
    "\\mathcal{K}_m = \\text{span}\\{r_0, Ar_0, A^2r_0, \\dots, A^{m-1}r_0\\}\n",
    "$$\n",
    "\n",
    "where $m$ is the dimension of the subspace and $r_0 = b - Ax_0$ is the residual\n",
    "of some initial guess $x_0$. $\\mathcal{K}_m$ is related to the original problem\n",
    "space by\n",
    "\n",
    "$$\n",
    "V_m^TAV_m = H_m\n",
    "$$\n",
    "\n",
    "where $V_m$ is an orthonormal basis of $\\mathcal{K}_m$ and $H_m$ is a\n",
    "$m \\times m$ Hessenberg matrix. Arnoldi's method computes these matrices."
   ]
  },
  {
   "cell_type": "markdown",
   "id": "16ffa25d",
   "metadata": {},
   "source": [
    "The benefit of this approach is that a problem based on $H_m$ is\n",
    "smaller than the original problem (controllable by the choice of subspace dimension $m$)\n",
    "and its Hessenberg structure makes it easier to solve with direct methods.\n",
    "The tradeoff is that the smaller $m$ is, the less accurate the solution will be."
   ]
  },
  {
   "cell_type": "markdown",
   "id": "8244cf3c",
   "metadata": {},
   "source": [
    "Getting an accurate result in one iteration of FOM requires working in a\n",
    "high-dimensional Krylov subspace, which has a computational complexity of $O(m^2)$ due to\n",
    "orthogonalization requiring dot products with all previously computed basis vectors.\n",
    "Saad (2003) presents two variants of FOM to alleviate this, the Restarted and Incomplete versions."
   ]
  },
  {
   "cell_type": "markdown",
   "id": "worthy-speech",
   "metadata": {},
   "source": [
    "### Restarted FOM"
   ]
  },
  {
   "cell_type": "markdown",
   "id": "84b443ba",
   "metadata": {},
   "source": [
    "Restarted FOM simply runs FOM repeatedly with a small $m$ until a desired\n",
    "precision is achieved.\n"
   ]
  },
  {
   "cell_type": "code",
   "execution_count": 2,
   "id": "3708a00e",
   "metadata": {},
   "outputs": [],
   "source": [
    "def restarted_fom(eq: Equation, x0: np.ndarray, subsp_dim: int) -> RunResult:\n",
    "    \"\"\"Approximately solve `Ax = b` using the Full Orthogonalization Method\n",
    "    with Krylov subspace dimension `subsp_dim`.\"\"\"\n",
    "\n",
    "    # Krylov subspace can't be larger than the column count of A\n",
    "    if eq.A.shape[1] < subsp_dim:\n",
    "        subsp_dim = eq.A.shape[1]\n",
    "\n",
    "    # stop condition from Saad (2003): reduce residual norm by a factor of 10^7\n",
    "    initial_resid_norm = np.linalg.norm(eq.residual(x0))\n",
    "    stop_resid_limit = 1e-7 * initial_resid_norm\n",
    "    x = x0\n",
    "    iter_count = 0\n",
    "    while iter_count < MAX_ITERATIONS:\n",
    "        iter_count += 1\n",
    "        # current residual\n",
    "        resid = eq.residual(x)\n",
    "        resid_norm = np.linalg.norm(resid)\n",
    "        # stop if we're close enough to the correct answer\n",
    "        # or the algorithm failed and diverged to infinity (this happens with FIDAP036)\n",
    "        if resid_norm < stop_resid_limit or math.isinf(resid_norm):\n",
    "            break\n",
    "        # orthonormal basis of the Krylov subspace,\n",
    "        # filled in over the course of the algorithm\n",
    "        V = np.zeros((eq.A.shape[1], subsp_dim))\n",
    "        # the Hessenberg matrix H in the relation (V^T)AV = H\n",
    "        H = np.zeros((subsp_dim, subsp_dim))\n",
    "        # first basis vector of the Krylov subspace based on the residual\n",
    "        V[:,0] = resid / resid_norm\n",
    "\n",
    "        for col in range(subsp_dim):\n",
    "            # the next vector in the Krylov subspace's basis\n",
    "            w = eq.A * V[:,col]\n",
    "            # orthogonalize using Modified Gram-Schmidt\n",
    "            for prev_col in range(col+1):\n",
    "                H[prev_col, col] = w.dot(V[:,prev_col])\n",
    "                w -= H[prev_col, col] * V[:,prev_col]\n",
    "            if col+1 == subsp_dim:\n",
    "                break\n",
    "            H[col+1, col] = np.linalg.norm(w)\n",
    "            if H[col+1, col] < 1e-10:\n",
    "                # terminated early because the Krylov subspace's actual dimension\n",
    "                # is less than what was given as parameter.\n",
    "                # resize the matrices H and V so that they're not singular if this happens\n",
    "                H = H[:col+1, :col+1]\n",
    "                V = V[:, :col+1]\n",
    "                break\n",
    "            V[:,col+1] = w / H[col+1, col]\n",
    "\n",
    "        # Using a prebuilt routine for solving the Hessenberg system for now.\n",
    "        # I know Saad (2003) has a method for this, but that seems less relevant than\n",
    "        # trying many different methods, so I'll leave it for later if I have time.\n",
    "        h_rhs = np.zeros((H.shape[1], 1))\n",
    "        h_rhs[0] = resid_norm\n",
    "        y = np.linalg.solve(H, h_rhs)\n",
    "\n",
    "        # y and its product with V are 2D column vectors,\n",
    "        # but the rest of the code works in 1D vectors, hence the weird indexing here\n",
    "        x += np.dot(V, y)[:,0]\n",
    "\n",
    "    return RunResult(\n",
    "        ans=x,\n",
    "        iterations=iter_count,\n",
    "    )"
   ]
  },
  {
   "cell_type": "code",
   "execution_count": 3,
   "id": "5218a814",
   "metadata": {
    "lines_to_next_cell": 2
   },
   "outputs": [
    {
     "name": "stdout",
     "output_type": "stream",
     "text": [
      "Subspace dimension: 10\n",
      "     matrix     | residual norm  |   iterations   |   time (ms)    \n",
      "----------------|----------------|----------------|----------------\n",
      "    FIDAP005    |   1.192e+01    |      300       |      181       \n",
      "    FIDAP036    |   1.511e+03    |      300       |      684       \n",
      "     GR3030     |   7.092e-06    |       13       |       10       \n",
      "    ORSIRR1     |   1.249e+02    |      300       |      334       \n",
      "\n",
      "Subspace dimension: 30\n",
      "     matrix     | residual norm  |   iterations   |   time (ms)    \n",
      "----------------|----------------|----------------|----------------\n",
      "    FIDAP005    |   1.384e-09    |       2        |       3        \n",
      "    FIDAP036    |   5.544e+39    |      300       |      2622      \n",
      "     GR3030     |   4.734e-07    |       4        |       15       \n",
      "    ORSIRR1     |   5.426e-02    |       73       |      361       \n",
      "\n",
      "Subspace dimension: 50\n",
      "     matrix     | residual norm  |   iterations   |   time (ms)    \n",
      "----------------|----------------|----------------|----------------\n",
      "    FIDAP005    |   1.514e-09    |       2        |       3        \n",
      "    FIDAP036    |      inf       |      250       |      4976      \n",
      "     GR3030     |   2.441e-09    |       3        |       24       \n",
      "    ORSIRR1     |   4.813e-02    |       29       |      327       \n",
      "\n"
     ]
    }
   ],
   "source": [
    "for dim in [10, 30, 50]:\n",
    "    print(f\"Subspace dimension: {dim}\")\n",
    "    test_run(restarted_fom, subsp_dim=dim)\n",
    "    print(\"\")"
   ]
  },
  {
   "cell_type": "markdown",
   "id": "ce7940d6",
   "metadata": {},
   "source": [
    "### Direct Incomplete Orthogonalization Method (DIOM)"
   ]
  },
  {
   "cell_type": "markdown",
   "id": "4b2a151e",
   "metadata": {},
   "source": [
    "The basic idea of incomplete orthogonalization is simple: reduce the cost\n",
    "of orthogonalization by only comparing against the last $k$ computed basis vectors.\n",
    "However, this only reduces computational costs while keeping memory costs\n",
    "the same. With some additional work, a special LU factorization can be created\n",
    "that does not need to store the entire basis $V_m$ in memory.\n",
    "This is the Direct variant detailed in chapter 6.4.2 of Saad (2003).\n"
   ]
  },
  {
   "cell_type": "code",
   "execution_count": 7,
   "id": "13e34bdd",
   "metadata": {
    "lines_to_next_cell": 2
   },
   "outputs": [],
   "source": [
    "from collections import deque\n",
    "\n",
    "def direct_iom(eq: Equation, x0: np.ndarray, ortho_count: int) -> RunResult:\n",
    "    \"\"\"Approximately solve `Ax = b` using the Direct Incomplete\n",
    "    Orthogonalization Method, orthogonalizing against `ortho_count` vectors.\"\"\"\n",
    "\n",
    "    initial_resid = eq.b - eq.A * x0\n",
    "    initial_resid_norm = np.linalg.norm(initial_resid)\n",
    "    stop_resid_limit = 1e-7 * initial_resid_norm\n",
    "\n",
    "    # for state, storing bounded deques of the last `ortho_count` values computed.\n",
    "    # this automatically handles dropping values we don't need anymore.\n",
    "    def empty_deque() -> deque:\n",
    "        return deque([], ortho_count)\n",
    "\n",
    "    # V and H as in FOM (basis of K_m and problem in K_m, respectively)\n",
    "    V = empty_deque()\n",
    "    # first basis vector from the initial residual\n",
    "    V.append(initial_resid / initial_resid_norm)\n",
    "    H = empty_deque()\n",
    "    # LU factorization of H\n",
    "    L = empty_deque()\n",
    "    U = empty_deque()\n",
    "    # zeta = L^{-1}(\\beta e_1)\n",
    "    zeta = empty_deque()\n",
    "    # P = VU^{-1}\n",
    "    P = empty_deque()\n",
    "    \n",
    "    x = x0\n",
    "    step_idx = 0\n",
    "    # stop if we cover all of the dimension of A without converging\n",
    "    while step_idx < eq.A.shape[1]:\n",
    "        # check convergence\n",
    "        resid_norm = np.linalg.norm(eq.residual(x))\n",
    "        if resid_norm < stop_resid_limit or math.isinf(resid_norm):\n",
    "            break\n",
    "\n",
    "        # we only store `ortho_count` columns of each matrix at a time,\n",
    "        # so indices into the state arrays are offset from \"real\" indices by this much\n",
    "        first_stored_col = max(0, step_idx - ortho_count)\n",
    "\n",
    "        next_v = eq.A * V[-1]\n",
    "        # only store the nonzero entries of H, of which there are at most\n",
    "        # `ortho_count + 1` because H is banded Hessenberg\n",
    "        next_h = np.zeros(ortho_count + 1)\n",
    "        for col in range(len(V)):\n",
    "            next_h[col] = next_v.dot(V[col])\n",
    "            next_v -= next_h[col] * V[col]\n",
    "        # entry of H below the main diagonal\n",
    "        next_h[len(V)] = np.linalg.norm(next_v)\n",
    "        \n",
    "        V.append(next_v)\n",
    "        H.append(next_h)\n",
    "\n",
    "        # TODO: LU factorization how?\n",
    "\n",
    "        next_zeta = -L[-1] * zeta[-1]\n",
    "        zeta.append(next_zeta)\n",
    "\n",
    "        diag_idx = step_idx - first_stored_col\n",
    "        next_p = (\n",
    "            (1.0 / U[-1][diag_idx])\n",
    "            * (V[-1] - sum([U[-1][i] * P[i] for i in range(diag_idx)]))\n",
    "        )\n",
    "        P.append(next_p)\n",
    "\n",
    "        x += next_zeta * next_p\n",
    "        step_idx += 1\n",
    "\n",
    "    return RunResult(\n",
    "        ans=x,\n",
    "        iterations=iter_count,\n",
    "    )"
   ]
  },
  {
   "cell_type": "code",
   "execution_count": 8,
   "id": "fc2447bd",
   "metadata": {
    "lines_to_next_cell": 2
   },
   "outputs": [
    {
     "name": "stdout",
     "output_type": "stream",
     "text": [
      "Orthogonal vectors: 5\n",
      "     matrix     | residual norm  |   iterations   |   time (ms)    \n",
      "----------------|----------------|----------------|----------------\n"
     ]
    },
    {
     "ename": "IndexError",
     "evalue": "deque index out of range",
     "output_type": "error",
     "traceback": [
      "\u001b[0;31m---------------------------------------------------------------------------\u001b[0m",
      "\u001b[0;31mIndexError\u001b[0m                                Traceback (most recent call last)",
      "\u001b[0;32m/tmp/ipykernel_900206/1459273711.py\u001b[0m in \u001b[0;36m<module>\u001b[0;34m\u001b[0m\n\u001b[1;32m      1\u001b[0m \u001b[0;32mfor\u001b[0m \u001b[0mortho_count\u001b[0m \u001b[0;32min\u001b[0m \u001b[0;34m[\u001b[0m\u001b[0;36m5\u001b[0m\u001b[0;34m,\u001b[0m \u001b[0;36m10\u001b[0m\u001b[0;34m,\u001b[0m \u001b[0;36m30\u001b[0m\u001b[0;34m]\u001b[0m\u001b[0;34m:\u001b[0m\u001b[0;34m\u001b[0m\u001b[0;34m\u001b[0m\u001b[0m\n\u001b[1;32m      2\u001b[0m     \u001b[0mprint\u001b[0m\u001b[0;34m(\u001b[0m\u001b[0;34mf\"Orthogonal vectors: {ortho_count}\"\u001b[0m\u001b[0;34m)\u001b[0m\u001b[0;34m\u001b[0m\u001b[0;34m\u001b[0m\u001b[0m\n\u001b[0;32m----> 3\u001b[0;31m     \u001b[0mtest_run\u001b[0m\u001b[0;34m(\u001b[0m\u001b[0mdirect_iom\u001b[0m\u001b[0;34m,\u001b[0m \u001b[0mortho_count\u001b[0m\u001b[0;34m=\u001b[0m\u001b[0mortho_count\u001b[0m\u001b[0;34m)\u001b[0m\u001b[0;34m\u001b[0m\u001b[0;34m\u001b[0m\u001b[0m\n\u001b[0m\u001b[1;32m      4\u001b[0m     \u001b[0mprint\u001b[0m\u001b[0;34m(\u001b[0m\u001b[0;34m\"\"\u001b[0m\u001b[0;34m)\u001b[0m\u001b[0;34m\u001b[0m\u001b[0;34m\u001b[0m\u001b[0m\n",
      "\u001b[0;32m/tmp/ipykernel_900206/311154653.py\u001b[0m in \u001b[0;36mtest_run\u001b[0;34m(method, **kwargs)\u001b[0m\n\u001b[1;32m     57\u001b[0m     \u001b[0;32mfor\u001b[0m \u001b[0meq\u001b[0m \u001b[0;32min\u001b[0m \u001b[0mTEST_EQUATIONS\u001b[0m\u001b[0;34m:\u001b[0m\u001b[0;34m\u001b[0m\u001b[0;34m\u001b[0m\u001b[0m\n\u001b[1;32m     58\u001b[0m         \u001b[0mstart_time\u001b[0m \u001b[0;34m=\u001b[0m \u001b[0mtime\u001b[0m\u001b[0;34m.\u001b[0m\u001b[0mperf_counter_ns\u001b[0m\u001b[0;34m(\u001b[0m\u001b[0;34m)\u001b[0m\u001b[0;34m\u001b[0m\u001b[0;34m\u001b[0m\u001b[0m\n\u001b[0;32m---> 59\u001b[0;31m         \u001b[0mresult\u001b[0m \u001b[0;34m=\u001b[0m \u001b[0mmethod\u001b[0m\u001b[0;34m(\u001b[0m\u001b[0meq\u001b[0m\u001b[0;34m,\u001b[0m \u001b[0mrandom_guess\u001b[0m\u001b[0;34m(\u001b[0m\u001b[0meq\u001b[0m\u001b[0;34m.\u001b[0m\u001b[0mA\u001b[0m\u001b[0;34m)\u001b[0m\u001b[0;34m,\u001b[0m \u001b[0;34m**\u001b[0m\u001b[0mkwargs\u001b[0m\u001b[0;34m)\u001b[0m\u001b[0;34m\u001b[0m\u001b[0;34m\u001b[0m\u001b[0m\n\u001b[0m\u001b[1;32m     60\u001b[0m         \u001b[0mduration_ns\u001b[0m \u001b[0;34m=\u001b[0m \u001b[0mtime\u001b[0m\u001b[0;34m.\u001b[0m\u001b[0mperf_counter_ns\u001b[0m\u001b[0;34m(\u001b[0m\u001b[0;34m)\u001b[0m \u001b[0;34m-\u001b[0m \u001b[0mstart_time\u001b[0m\u001b[0;34m\u001b[0m\u001b[0;34m\u001b[0m\u001b[0m\n\u001b[1;32m     61\u001b[0m         \u001b[0mduration_ms\u001b[0m \u001b[0;34m=\u001b[0m \u001b[0mduration_ns\u001b[0m \u001b[0;34m//\u001b[0m \u001b[0;36m1000000\u001b[0m\u001b[0;34m\u001b[0m\u001b[0;34m\u001b[0m\u001b[0m\n",
      "\u001b[0;32m/tmp/ipykernel_900206/1975298960.py\u001b[0m in \u001b[0;36mdirect_iom\u001b[0;34m(eq, x0, ortho_count)\u001b[0m\n\u001b[1;32m     55\u001b[0m         \u001b[0;31m# TODO: LU factorization how?\u001b[0m\u001b[0;34m\u001b[0m\u001b[0;34m\u001b[0m\u001b[0m\n\u001b[1;32m     56\u001b[0m \u001b[0;34m\u001b[0m\u001b[0m\n\u001b[0;32m---> 57\u001b[0;31m         \u001b[0mnext_zeta\u001b[0m \u001b[0;34m=\u001b[0m \u001b[0;34m-\u001b[0m\u001b[0mL\u001b[0m\u001b[0;34m[\u001b[0m\u001b[0;34m-\u001b[0m\u001b[0;36m1\u001b[0m\u001b[0;34m]\u001b[0m \u001b[0;34m*\u001b[0m \u001b[0mzeta\u001b[0m\u001b[0;34m[\u001b[0m\u001b[0;34m-\u001b[0m\u001b[0;36m1\u001b[0m\u001b[0;34m]\u001b[0m\u001b[0;34m\u001b[0m\u001b[0;34m\u001b[0m\u001b[0m\n\u001b[0m\u001b[1;32m     58\u001b[0m         \u001b[0mzeta\u001b[0m\u001b[0;34m.\u001b[0m\u001b[0mappend\u001b[0m\u001b[0;34m(\u001b[0m\u001b[0mnext_zeta\u001b[0m\u001b[0;34m)\u001b[0m\u001b[0;34m\u001b[0m\u001b[0;34m\u001b[0m\u001b[0m\n\u001b[1;32m     59\u001b[0m \u001b[0;34m\u001b[0m\u001b[0m\n",
      "\u001b[0;31mIndexError\u001b[0m: deque index out of range"
     ]
    }
   ],
   "source": [
    "for ortho_count in [5, 10, 30]:\n",
    "    print(f\"Orthogonal vectors: {ortho_count}\")\n",
    "    test_run(direct_iom, ortho_count=ortho_count)\n",
    "    print(\"\")"
   ]
  },
  {
   "cell_type": "markdown",
   "id": "placed-accused",
   "metadata": {},
   "source": [
    "# Sources\n",
    "\n",
    "Saad, Y. (2003). Iterative Methods for Sparse Linear Systems."
   ]
  }
 ],
 "metadata": {
  "kernelspec": {
   "display_name": "Python 3",
   "language": "python",
   "name": "python3"
  },
  "language_info": {
   "codemirror_mode": {
    "name": "ipython",
    "version": 3
   },
   "file_extension": ".py",
   "mimetype": "text/x-python",
   "name": "python",
   "nbconvert_exporter": "python",
   "pygments_lexer": "ipython3",
   "version": "3.9.12"
  }
 },
 "nbformat": 4,
 "nbformat_minor": 5
}
