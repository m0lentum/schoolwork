{
 "cells": [
  {
   "cell_type": "markdown",
   "id": "medieval-denmark",
   "metadata": {},
   "source": [
    "# TIES581 Project work\n",
    "\n",
    "Mikael Myyrä  \n",
    "`mikael.b.myyra@jyu.fi`"
   ]
  },
  {
   "cell_type": "markdown",
   "id": "worthy-speech",
   "metadata": {},
   "source": [
    "In this document I implement and test Krylov subspace methods for\n",
    "linear systems using NumPy, based on the descriptions of Saad (2003)."
   ]
  },
  {
   "cell_type": "markdown",
   "id": "placed-accused",
   "metadata": {},
   "source": [
    "# Test problems and library setup"
   ]
  },
  {
   "cell_type": "markdown",
   "id": "formal-edmonton",
   "metadata": {},
   "source": [
    "Using numpy for matrix utilities and scipy to read the Harwell-Boeing matrix format.\n",
    "\n",
    "The matrices are picked from the Harwell-Boeing and FIDAP collections on\n",
    "[Matrix Market](https://math.nist.gov/MatrixMarket/).\n",
    "Two of them, ORSIRR1 and FIDAP36, are also used by Saad (2003).\n",
    "FIDAP005 is a smaller problem that is helpful in early testing\n",
    "because you can print and read it.\n",
    "\n",
    "Following Saad (2003) chapter 3.7, the right-hand side of $Ax = b$ is generated\n",
    "as $b = Ae$ where $e = (1,1,\\dots,1)^T$, and the initial guess $x_0$\n",
    "is a vector of random values. Saad does not specify the range\n",
    "or distribution of random values, so I am assuming the conventional\n",
    "uniform distribution in the range $[0, 1)$."
   ]
  },
  {
   "cell_type": "code",
   "execution_count": 79,
   "id": "difficult-polyester",
   "metadata": {
    "lines_to_next_cell": 2
   },
   "outputs": [],
   "source": [
    "import numpy as np\n",
    "import scipy as sp\n",
    "from scipy.io import mmread\n",
    "\n",
    "GR3030 = mmread(\"test_matrices/gr_30_30.mtx\")\n",
    "ORSIRR1 = mmread(\"test_matrices/orsirr_1.mtx\")\n",
    "FIDAP005 = mmread(\"test_matrices/fidap005.mtx\")\n",
    "FIDAP036 = mmread(\"test_matrices/fidap036.mtx\")\n",
    "\n",
    "def default_rhs(A) -> np.ndarray:\n",
    "    return A * np.ones((A.shape[1],))\n",
    "\n",
    "def random_guess(A) -> np.ndarray:\n",
    "    return np.random.random_sample((A.shape[1],))\n",
    "\n",
    "# more readable prints for debugging\n",
    "np.set_printoptions(precision=5)"
   ]
  },
  {
   "cell_type": "markdown",
   "id": "wired-eight",
   "metadata": {},
   "source": [
    "# Methods"
   ]
  },
  {
   "cell_type": "markdown",
   "id": "protecting-february",
   "metadata": {},
   "source": [
    "## Full Orthogonalization Method (FOM)"
   ]
  },
  {
   "cell_type": "markdown",
   "id": "agricultural-spending",
   "metadata": {},
   "source": [
    "A simple, naive implementation of FOM to use as a baseline\n",
    "(and get some practice using numpy)\n"
   ]
  },
  {
   "cell_type": "code",
   "execution_count": 94,
   "id": "southeast-silver",
   "metadata": {},
   "outputs": [],
   "source": [
    "def fom(A, b, x0, subsp_dim) -> np.ndarray:\n",
    "    \"\"\"Approximately solve `Ax = b` using the Full Orthogonalization Method\n",
    "    with Krylov subspace dimension `subsp_dim`.\"\"\"\n",
    "    \n",
    "    # orthonormal basis of the Krylov subspace,\n",
    "    # filled in over the course of the algorithm\n",
    "    V = np.zeros((A.shape[1], subsp_dim))\n",
    "    # the Hessenberg matrix H in the relation (V^T)AV = H\n",
    "    H = np.zeros((subsp_dim, subsp_dim))\n",
    "    # initial residual\n",
    "    r0 = b - A*x0\n",
    "    r0_norm = np.linalg.norm(r0)\n",
    "    # first basis vector of the Krylov subspace based on r0\n",
    "    V[:,0] = r0 / r0_norm\n",
    "\n",
    "    for col in range(subsp_dim):\n",
    "        # the next vector in the Krylov subspace's basis\n",
    "        w = A * V[:,col]\n",
    "        # orthogonalize using Modified Gram-Schmidt\n",
    "        for prev_col in range(col+1):\n",
    "            H[prev_col, col] = w.dot(V[:,prev_col])\n",
    "            w -= H[prev_col, col] * V[:,prev_col]\n",
    "        if col+1 == subsp_dim:\n",
    "            break\n",
    "        H[col+1, col] = np.linalg.norm(w)\n",
    "        if H[col+1, col] < 1e-10:\n",
    "            # terminated early because the Krylov subspace's dimension\n",
    "            # is less than what was given as parameter.\n",
    "            # TODO: resize the matrices H and V\n",
    "            # so that they're not singular if this happens\n",
    "            break\n",
    "        V[:,col+1] = w / H[col+1, col]\n",
    "\n",
    "    # using a prebuilt routine for this part at least for now while I get this working.\n",
    "    # I know Saad (2003) has a method for this, but that's another thing to implement\n",
    "    # and another possible point of failure\n",
    "    h_rhs = np.zeros((subsp_dim, 1))\n",
    "    h_rhs[0] = r0_norm\n",
    "    y = np.linalg.solve(H, h_rhs)\n",
    "\n",
    "    # y and its product with V are 2D column vectors,\n",
    "    # but the rest of the code works in 1D vectors\n",
    "    return x0 + np.dot(V, y)[0,:]"
   ]
  },
  {
   "cell_type": "code",
   "execution_count": 95,
   "id": "quick-tourism",
   "metadata": {
    "lines_to_next_cell": 2
   },
   "outputs": [
    {
     "data": {
      "text/plain": [
       "array([0.6623 , 0.05745, 0.70921, 0.14697, 0.40047, 0.10429, 0.52703,\n",
       "       0.11773, 0.69966, 0.95887, 0.55345, 0.07885, 0.19398, 0.27664,\n",
       "       0.53736, 0.45313, 0.29906, 0.07776, 0.36684, 0.27033, 0.90415,\n",
       "       0.77584, 0.78553, 0.54197, 0.57122, 1.00783, 0.35776])"
      ]
     },
     "execution_count": 95,
     "metadata": {},
     "output_type": "execute_result"
    }
   ],
   "source": [
    "fom(FIDAP005, default_rhs(FIDAP005), random_guess(FIDAP005), 5)"
   ]
  },
  {
   "cell_type": "markdown",
   "id": "frequent-ordinance",
   "metadata": {},
   "source": [
    "# Sources"
   ]
  },
  {
   "cell_type": "markdown",
   "id": "grateful-discharge",
   "metadata": {},
   "source": [
    "Saad, Y. (2003). Iterative Methods for Sparse Linear Systems."
   ]
  }
 ],
 "metadata": {
  "kernelspec": {
   "display_name": "Python 3",
   "language": "python",
   "name": "python3"
  },
  "language_info": {
   "codemirror_mode": {
    "name": "ipython",
    "version": 3
   },
   "file_extension": ".py",
   "mimetype": "text/x-python",
   "name": "python",
   "nbconvert_exporter": "python",
   "pygments_lexer": "ipython3",
   "version": "3.9.12"
  }
 },
 "nbformat": 4,
 "nbformat_minor": 5
}
