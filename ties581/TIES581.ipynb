{
 "cells": [
  {
   "cell_type": "markdown",
   "id": "medieval-denmark",
   "metadata": {},
   "source": [
    "# TIES581 Project work\n",
    "\n",
    "Mikael Myyrä  \n",
    "`mikael.b.myyra@jyu.fi`\n"
   ]
  },
  {
   "cell_type": "code",
   "execution_count": 1,
   "id": "applicable-oxford",
   "metadata": {
    "lines_to_next_cell": 0
   },
   "outputs": [
    {
     "name": "stdout",
     "output_type": "stream",
     "text": [
      "wtf\n"
     ]
    }
   ],
   "source": [
    "arst = \"wtf\"\n",
    "print(arst)"
   ]
  },
  {
   "cell_type": "markdown",
   "id": "grateful-discharge",
   "metadata": {},
   "source": []
  }
 ],
 "metadata": {
  "kernelspec": {
   "display_name": "Python 3",
   "language": "python",
   "name": "python3"
  },
  "language_info": {
   "codemirror_mode": {
    "name": "ipython",
    "version": 3
   },
   "file_extension": ".py",
   "mimetype": "text/x-python",
   "name": "python",
   "nbconvert_exporter": "python",
   "pygments_lexer": "ipython3",
   "version": "3.8.11"
  }
 },
 "nbformat": 4,
 "nbformat_minor": 5
}
