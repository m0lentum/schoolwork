{
 "cells": [
  {
   "cell_type": "markdown",
   "metadata": {},
   "source": [
    "# TIES483 ex8, Mikael Myyrä"
   ]
  },
  {
   "cell_type": "markdown",
   "metadata": {},
   "source": [
    "***"
   ]
  },
  {
   "cell_type": "markdown",
   "metadata": {},
   "source": [
    "### Find an application of optimization in a scienfic paper, and replicate the results.\n",
    "\n",
    "If you do not have the data or the model, then you need to come up with a mock-up data or model yourself. If you do not have the data and you cannot come up with any model or data that would somehow resemble the model or the data in the paper, then you need to write a description of why this could not be done.\n",
    "\n",
    "If you want, you can apply any other optimization method than what was applied in the paper. This would actually be interesting, since then we can compare the results."
   ]
  },
  {
   "cell_type": "markdown",
   "metadata": {},
   "source": [
    "***"
   ]
  },
  {
   "cell_type": "markdown",
   "metadata": {},
   "source": [
    "Note: this is not exactly an optimization paper, but I've been very tired lately and need to cut some work. I hope this is worth a few points, but if not, that's fine. I'll be able to pass the course anyway."
   ]
  },
  {
   "cell_type": "markdown",
   "metadata": {},
   "source": [
    "I recently implemented the paper [Detailed Rigid Body Simulation with Extended Position-Based Dynamics](https://matthias-research.github.io/pages/publications/PBDBodies.pdf) by M. Muller et al. in my hobby physics engine. I'm hoping it may be worth some points for this course because it includes a method of solving a system of constraints, which is closely related to optimization.\n",
    "\n",
    "The paper discusses many aspects of rigid body simulation. The relevant part here is the solving of position constraints using a Nonlinear Gauss-Seidel method. Constraints are defined as functions from the positions and orientations of two bodies or particles to a scalar, $C(x_1, q_1, x_2, q_2) = 0$. Inequality constraints $C \\leq 0$ and $C \\geq 0$ are also used for one-directional constraints such as contacts. The positions and orientations of bodies here play a similar role to the decision variables in an optimization problem.\n",
    "\n",
    "Since this is a physics simulation, there's no function to optimize, but on the other hand we're not just looking for whatever feasible solution either. The constraints are resolved according to physical principles like conservation of momentum and the principle of virtual work. The Nonlinear Gauss-Seidel method works iteratively by solving constraints one at a time. Between every iteration constraint directions are updated, which is what makes the method nonlinear.\n",
    "\n",
    "I haven't done any rigorous testing regarding force magnitudes or energy conservation, but my results are visually similar to the demonstrations in the [paper's accompanying video](https://www.youtube.com/watch?v=CPq87E1vD8k). There is very little jitter on contacts, and spring systems create high-frequency motions with minimal energy dissipation. This is much better than my previous solver, which was largely based on the paper [Iterative Dynamics with Temporal Coherence](https://www.gamedevs.org/uploads/iterative-dynamics-with-temporal-coherence.pdf) by E. Catto. It used velocity-level constraints solved with a linear Projected Gauss-Seidel method, and had visible jittering on stacked bodies and high numerical dissipation of energy.\n",
    "\n",
    "You can find [my implementation on Github](https://github.com/MoleTrooper/starframe/). There's an animated gif demonstrating results in the README. Should you actually want to read my code, the code relevant to this is mostly in the file `src/physics.rs`. "
   ]
  }
 ],
 "metadata": {
  "kernelspec": {
   "display_name": "Python 3",
   "language": "python",
   "name": "python3"
  },
  "language_info": {
   "codemirror_mode": {
    "name": "ipython",
    "version": 3
   },
   "file_extension": ".py",
   "mimetype": "text/x-python",
   "name": "python",
   "nbconvert_exporter": "python",
   "pygments_lexer": "ipython3",
   "version": "3.7.6"
  }
 },
 "nbformat": 4,
 "nbformat_minor": 1
}
