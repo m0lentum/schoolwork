{
 "cells": [
  {
   "cell_type": "markdown",
   "metadata": {},
   "source": [
    "# TIES483 ex6, Mikael Myyrä"
   ]
  },
  {
   "cell_type": "markdown",
   "metadata": {},
   "source": [
    "***"
   ]
  },
  {
   "cell_type": "markdown",
   "metadata": {},
   "source": [
    "1. **2 points** Study multiobjective optimization problem\n",
    "$$\n",
    "\\begin{align}\n",
    "\\min & \\{\\|x-(1,0)\\|^2,\\|x-(0,1)\\|^2\\}\\\\\n",
    "\\text{s.t. }&x\\in \\mathbb R^2.\n",
    "\\end{align}\n",
    "$$\n",
    "Chacterize algebraicly (i.e. give a mathematical formulation) the full set of Pareto optimal solutions."
   ]
  },
  {
   "cell_type": "markdown",
   "metadata": {},
   "source": [
    "***"
   ]
  },
  {
   "cell_type": "markdown",
   "metadata": {},
   "source": [
    "The first objective function is minimized at $x = (1, 0)$, where it gets the value 0. Likewise, the second is minimized at $x = (0, 1)$. In the objective space $\\{(f_1, f_2) \\in \\mathbb R^2 : f_1, f_2 \\geq 0\\}$, the $f_1$ axis measures the squared distance from the point $(1, 0)$ and the $f_2$ axis measures the squared distance from the point $(0, 1)$."
   ]
  },
  {
   "cell_type": "markdown",
   "metadata": {},
   "source": [
    "Both objective functions can't be minimized at the same time, so the objective space has some area near the origin that can't be reached. When $f_1$ is $0$, $f_2$ is $\\|(1, 0) - (0, 1)\\|^2 = 2$ and vice versa. These points are connected with some curve, which is the set of Pareto optimal solutions. This is intuitively clear from the geometry, as this curve is at the bottom-left of the space and intersects with both coordinate axes."
   ]
  },
  {
   "cell_type": "markdown",
   "metadata": {},
   "source": [
    "Examining the decision space to find the aforementioned curve. A value of $f_1$ corresponds to a circle with radius $\\sqrt{f_1}$ centered on $(1, 0)$ in the decision space. The lowest value of $f_2$ on that circle is the closest point to $(0, 1)$, which lies at the intersection of the circle and the ray from the center of the circle towards $(0, 1)$ (not proving this here as this is only the thought process, the important proof is the Pareto optimality of the resulting set, which comes later). The ray is\n",
    "$$\n",
    "r(t) = (1, 0) + t((0, 1) - (1, 0)) \\\\\n",
    "  = (1, 0) + t(-1, 1), t \\geq 0\n",
    "$$"
   ]
  },
  {
   "cell_type": "markdown",
   "metadata": {},
   "source": [
    "The ray reaches the point where $f_2 = 0$ at $t = 1$, so we get the curve between $(1, 0)$ and $(0, 1)$ in the objective space by mapping the decision space line segment $r(t), 0 \\leq t \\leq 1$ to the objective space.\n",
    "$$\n",
    "r_f(t) = ((f_1 \\circ r)(t), (f_2 \\circ r)(t))\\\\\n",
    "= (\\|(1, 0) + t(-1, 1) - (1, 0)\\|^2, \\|(1, 0) + t(-1, 1) - (0, 1)\\|^2)\\\\\n",
    "  = (\\|(-t, t)\\|^2, \\|(1 - t, t - 1)\\|^2)\\\\\n",
    "  = (2t^2, 2t^2 - 4t + 2)), 0 \\leq t \\leq 1\n",
    "$$"
   ]
  },
  {
   "cell_type": "markdown",
   "metadata": {},
   "source": [
    "This is the set of Pareto-optimal solutions. Plotting it with e.g. Geogebra you can see it's the bottom part of a parabola rotated 45 degrees clockwise."
   ]
  },
  {
   "cell_type": "markdown",
   "metadata": {},
   "source": [
    "It's a bit hard to convert this parameterized curve to an implicit curve.\n",
    "Proof idea using this form directly: say there's a point $x'$ for which $(x' - r_f(t)) \\wedge r'(t) < 0$ and $x' \\neq r_f(t)$ for some $0 \\leq t \\leq 1$ (in other words, $x'$ is to the left of $r_f(t)$). Show that this point can't be feasible. Geometrically a point like this would be one that's closer to both optimal points in the decision space than is physically possible."
   ]
  },
  {
   "cell_type": "markdown",
   "metadata": {},
   "source": [
    "If you're reading this, I didn't have time (or possibly forgot) to actually work through this proof after doing the rest of the exercises. :("
   ]
  },
  {
   "cell_type": "markdown",
   "metadata": {},
   "source": [
    "***"
   ]
  },
  {
   "cell_type": "markdown",
   "metadata": {},
   "source": [
    "2. **2 points** Calculate the ideal and nadir vectors for the above two objective problem. You can use any methods available."
   ]
  },
  {
   "cell_type": "markdown",
   "metadata": {},
   "source": [
    "***"
   ]
  },
  {
   "cell_type": "markdown",
   "metadata": {},
   "source": [
    "As shown in exercise 1, the curve of Pareto optimal solutions starts at $(2, 0)$ and ends at $(0, 2)$. Thus, we get the ideal and nadir vectors by inspection:\n",
    "$$\n",
    "z^{ideal} = (0, 0)\\\\\n",
    "z^{nadir} = (2, 2)\n",
    "$$"
   ]
  },
  {
   "cell_type": "markdown",
   "metadata": {},
   "source": [
    "***"
   ]
  },
  {
   "cell_type": "markdown",
   "metadata": {},
   "source": [
    "3. **2 points** Try to generate a representative set of Pareto optimal solutions using the weighting method for the above two objective problem. Compare this set to the set of Pareto optimal solutions from task 1. What do you notice?"
   ]
  },
  {
   "cell_type": "markdown",
   "metadata": {},
   "source": [
    "***"
   ]
  },
  {
   "cell_type": "markdown",
   "metadata": {},
   "source": [
    "***"
   ]
  },
  {
   "cell_type": "markdown",
   "metadata": {},
   "source": [
    "4. **2 points** Show\n",
    "  1. that an optimal solution to the weighting method is Pareto optimal, if the weights $w_i>0$ for all $i=1,\\ldots,k$, and\n",
    "  2. that an optimal solution $x^*$ to the epsilon constraint method is Pareto optimal, if it is an optimal solution to the epsilon constraint method for all $j=1,\\ldots,k$ and $\\epsilon=f(x^*)$."
   ]
  },
  {
   "cell_type": "markdown",
   "metadata": {},
   "source": [
    "***"
   ]
  }
 ],
 "metadata": {
  "anaconda-cloud": {},
  "kernelspec": {
   "display_name": "Python 3",
   "language": "python",
   "name": "python3"
  },
  "language_info": {
   "codemirror_mode": {
    "name": "ipython",
    "version": 3
   },
   "file_extension": ".py",
   "mimetype": "text/x-python",
   "name": "python",
   "nbconvert_exporter": "python",
   "pygments_lexer": "ipython3",
   "version": "3.7.6"
  }
 },
 "nbformat": 4,
 "nbformat_minor": 1
}
