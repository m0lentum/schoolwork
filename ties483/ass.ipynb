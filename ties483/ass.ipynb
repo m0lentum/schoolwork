{
 "cells": [
  {
   "cell_type": "markdown",
   "metadata": {},
   "source": [
    "# TIES483 Assignment, Mikael Myyrä"
   ]
  },
  {
   "cell_type": "markdown",
   "metadata": {},
   "source": [
    "***"
   ]
  },
  {
   "cell_type": "markdown",
   "metadata": {},
   "source": [
    "## Problem 1"
   ]
  },
  {
   "cell_type": "markdown",
   "metadata": {
    "collapsed": true
   },
   "source": [
    "A window is being built and the bottom is a rectangle and the top is a semicircle. If there is 12 m of framing materials what must the dimensions of the window be to make the window area as big as possible?\n",
    "\n",
    "Model the decision problem as an optimization problem and solve it with a method of your choosing. **Analyse the result!**"
   ]
  },
  {
   "cell_type": "markdown",
   "metadata": {},
   "source": [
    "***"
   ]
  },
  {
   "cell_type": "markdown",
   "metadata": {},
   "source": [
    "The relevant measurements (circumference and area) of the window can be expressed as functions of width $w$ and height $h$. The circumference is $w + 2h$ for the rectangular part and $\\pi \\frac{w}{2}$ for the circular part, so the total circumference is $C(w, h) = (1 + \\frac{\\pi}{2})w + 2h$. The area is $wh$ for the rectangular part and $\\pi (\\frac{w}{2})^2$ for the circular part, so the total area is $A(w, h) = wh + \\frac{\\pi}{4} w^2$. We're trying to maximize $A$ (and thus minimize $-A$) subject to the linear constraint $C = 12$. Also, $w$ and $h$ must be greater than zero because this is a real window. In formal terms, the problem is\n",
    "\n",
    "$$\n",
    "\\begin{align}\n",
    "\\min \\qquad & -wh - \\frac{\\pi}{4} w^2 \\\\\n",
    "\\text{s.t.} \\qquad & (1 + \\frac{\\pi}{2})w + 2h = 12 \\\\\n",
    "& w, r > 0\n",
    "\\end{align}\n",
    "$$"
   ]
  },
  {
   "cell_type": "markdown",
   "metadata": {},
   "source": [
    "In this simple case it should be possible to find a solution analytically using the stationarity rule from the KKT conditions. Let's try it. The Lagrangian for this problem is\n",
    "\n",
    "$$\n",
    "L(w, h) = -wh - \\frac{\\pi}{4} w^2 - \\lambda(1 + \\frac{\\pi}{2})w - 2\\lambda h\n",
    "$$\n",
    "\n",
    "and its gradient\n",
    "\n",
    "$$\n",
    "\\nabla L(w, h) = (-h - \\frac{\\pi}{2} w - \\lambda(1 + \\frac{\\pi}{2}), -w - 2\\lambda).\n",
    "$$"
   ]
  },
  {
   "cell_type": "markdown",
   "metadata": {},
   "source": [
    "We're looking for points where\n",
    "$$\n",
    "\\nabla L(w, h) = \\mathbf{0} \\\\\n",
    "\\begin{cases}\n",
    "-h - \\frac{\\pi}{2}w - \\lambda(1 + \\frac{\\pi}{2}) = 0 \\\\\n",
    "-w - 2\\lambda = 0\n",
    "\\end{cases} \\\\\n",
    "w = -\\frac{\\lambda}{2} \\\\\n",
    "-h + (\\frac{\\pi}{4} - (1 + \\frac{\\pi}{2}))\\lambda = 0 \\iff h = (-\\frac{\\pi}{4} - 1)\\lambda\n",
    "$$\n",
    "\n",
    "Applying the constraint, we find feasible values for $\\lambda$:\n",
    "\n",
    "$$\n",
    "\\begin{align}\n",
    "(1 + \\frac{\\pi}{2})w + 2h &= 12 \\\\\n",
    "(1 + \\frac{\\pi}{2})(-\\frac{\\lambda}{2}) + 2(-\\frac{\\pi}{4} - 1)\\lambda &= 12 \\\\x\n",
    "(-\\frac12 - \\frac{\\pi}{4} - \\frac{\\pi}{2} - 2)\\lambda &= 12 \\\\\n",
    "(-\\frac{3\\pi}{4} - \\frac{5}{2})\\lambda &= 12 \\\\\n",
    "\\lambda &= \\frac{-12}{\\frac{3\\pi}{4} + \\frac{5}{2}}\n",
    "\\end{align}\n",
    "$$\n",
    "\n",
    "now, applying $\\lambda$ back to $w$ and $h$, we get\n",
    "\n",
    "$$\n",
    "w = -\\frac{\\lambda}{2} = \\frac{12}{\\frac{3\\pi}{2} + 5} \\approx 1.236 \\\\\n",
    "h = (-\\frac{\\pi}{4} - 1) \\lambda \n",
    "  = \\frac{3\\pi + 12}{\\frac{3\\pi}{4} + \\frac{5}{2}} \\approx 4.412.\n",
    "$$"
   ]
  },
  {
   "cell_type": "markdown",
   "metadata": {},
   "source": [
    "Analysis: Because we used the KKT conditions to come up with this solution analytically, we already know it's optimal. Just to check that the calculations were correct, you can plug $w$ and $h$ back into the constraint function to ensure it holds. Plugging said values into the objective function and flipping the sign gives the optimal area of the window, which comes out to be approximately $6.653 m^2$."
   ]
  },
  {
   "cell_type": "markdown",
   "metadata": {},
   "source": [
    "***"
   ]
  },
  {
   "cell_type": "markdown",
   "metadata": {},
   "source": [
    "## Problem 2"
   ]
  },
  {
   "cell_type": "markdown",
   "metadata": {},
   "source": [
    "The 10-dimensional Robsenbrock function (one of the variants) is defined as\n",
    "$$\n",
    "f(\\mathbf{x}) = \\sum_{i=1}^{9} 100 (x_{i+1} - x_i^2 )^2 + (1-x_i)^2\n",
    "$$\n",
    "for $x\\in\\mathbb R^{10}$. \n",
    "\n",
    "Compare at least two different optimization method's performance in minimizing this function over $\\mathbb R^{10}$. You can decide the method of comparison as the one that makes most sense to you. **Analyze the results!**"
   ]
  },
  {
   "cell_type": "markdown",
   "metadata": {},
   "source": [
    "***"
   ]
  },
  {
   "cell_type": "markdown",
   "metadata": {},
   "source": [
    "***"
   ]
  },
  {
   "cell_type": "markdown",
   "metadata": {},
   "source": [
    "## Problem 3"
   ]
  },
  {
   "cell_type": "markdown",
   "metadata": {},
   "source": [
    "The task is to solve a black-box optimization problem where the objective and constraint function values can be obtained by calling an executable. The executable <i>prob3</i> will be available at the course website http://users.jyu.fi/~jhaka/opt/ along with instructions on how to use it in the <i>README</i> file. \n",
    "\n",
    "The format of the problem is\n",
    "$$\n",
    "\\begin{align}\n",
    "\\min \\ &f(x)\\\\\n",
    "\\text{s.t. }&h_1(x) = 0\\\\\n",
    "        &h_2(x) = 0\\\\\n",
    "        &g_1(x) \\geq 0\\\\\n",
    "        &g_2(x) \\geq 0\\\\\n",
    "        &g_3(x) \\geq 0\\\\\n",
    "        &g_4(x) \\geq 0\\\\\n",
    "        &x\\in \\mathbb R^4.        \n",
    "\\end{align}\n",
    "$$\n",
    "Solve the optimization problem by using the tools and optimization method of your choosing. **Analyse the results!**"
   ]
  },
  {
   "cell_type": "markdown",
   "metadata": {},
   "source": [
    "***"
   ]
  },
  {
   "cell_type": "markdown",
   "metadata": {},
   "source": [
    "***"
   ]
  },
  {
   "cell_type": "markdown",
   "metadata": {},
   "source": [
    "## Problem 4"
   ]
  },
  {
   "cell_type": "markdown",
   "metadata": {},
   "source": [
    "Study biobjective optimization problem\n",
    "$$\n",
    "\\begin{align}\n",
    "\\min \\ &(\\|x-(1,0)\\|,\\|x-(0,1)\\|)\\\\\n",
    "\\text{s.t. }&x\\in \\mathbb R^2.\n",
    "\\end{align}\n",
    "$$\n",
    "Try to generate an evenly spread representation of the Pareto front. Plot the results in both the decision and objective spaces. **Analyze the results!**"
   ]
  },
  {
   "cell_type": "markdown",
   "metadata": {},
   "source": [
    "***"
   ]
  }
 ],
 "metadata": {
  "anaconda-cloud": {},
  "kernelspec": {
   "display_name": "Python 3",
   "language": "python",
   "name": "python3"
  },
  "language_info": {
   "codemirror_mode": {
    "name": "ipython",
    "version": 3
   },
   "file_extension": ".py",
   "mimetype": "text/x-python",
   "name": "python",
   "nbconvert_exporter": "python",
   "pygments_lexer": "ipython3",
   "version": "3.7.6"
  }
 },
 "nbformat": 4,
 "nbformat_minor": 1
}
