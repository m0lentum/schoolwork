{
 "cells": [
  {
   "cell_type": "markdown",
   "metadata": {},
   "source": [
    "# TIES483 ex7, Mikael Myyrä"
   ]
  },
  {
   "cell_type": "markdown",
   "metadata": {},
   "source": [
    "***"
   ]
  },
  {
   "cell_type": "markdown",
   "metadata": {},
   "source": [
    "1. **2 points** Show that \n",
    "  1. an optimal solution to the achievement scalarizing problem is Pareto optimal, and\n",
    "  2. for all Pareto optimal solutions $x^*$ there exist a reference point such that $x^*$ is an optimal solution to the achievement scalarizing problem with $\\rho=0$ (i.e., without the augmentation term). "
   ]
  },
  {
   "cell_type": "markdown",
   "metadata": {},
   "source": [
    "***"
   ]
  },
  {
   "cell_type": "markdown",
   "metadata": {},
   "source": [
    "**A.**"
   ]
  },
  {
   "cell_type": "markdown",
   "metadata": {},
   "source": [
    "Using the achievement scalarizing formula\n",
    "\n",
    "$$\n",
    "\\min_{x\\in S}\\left( \\max_{i=1}^k[f_i(x)-z_i^{ref}] +\\rho\\sum_{i=1}^kf_i(x)\\right), \\rho > 0.\n",
    "$$"
   ]
  },
  {
   "cell_type": "markdown",
   "metadata": {},
   "source": [
    "Let $x^*$ be a minimizer of this this problem.\n",
    "\n",
    "If $x^*$ is not Pareto optimal, then there is some vector $x' \\neq \\mathbf{0}$ for which $x^* + x'$ is feasible and\n",
    "\n",
    "$$\n",
    "\\begin{cases}\n",
    "f_i(x^* + x') \\leq f_i(x^*)\\text{ for all }i\\in \\{1,\\ldots,k\\}\\\\\n",
    "f_j(x^* + x') < f_j(x^*) \\text{ for some }j\\in \\{1,\\ldots,k\\}.\\\\\n",
    "\\end{cases}\n",
    "$$\n",
    "\n",
    "Because $z^{ref}$ is constant, the first condition is equivalent to\n",
    "\n",
    "$$\n",
    "f_i(x^* + x') - z_i^{ref}$ \\leq f_i(x^*) - z_i^{ref} \\text{ for all } i \\in \\{1,\\ldots,k\\},\n",
    "$$\n",
    "\n",
    "which implies\n",
    "\n",
    "$$\n",
    "\\max_{i=1}^k[f_i(x^* + x') - z_i^{ref}] \\leq \\max_{i=1}^k[f_i(x^*) - z_i^{ref}].\n",
    "$$\n",
    "\n",
    "For the sum term, the first and second conditions combined imply that\n",
    "\n",
    "$$\n",
    "\\sum_{i=1}^k f_i(x^* + x') < \\sum_{i=1}^k f_i(x^*).\n",
    "$$\n",
    "\n",
    "Thus, for the entire expression\n",
    "\n",
    "$$\n",
    "\\max_{i=1}^k[f_i(x^* + x') - z_i^{ref}] + \\sum_{i=1}^k f_i(x^* + x') < \\max_{i=1}^k[f_i(x^*) - z_i^{ref}] + \\sum_{i=1}^k f_i(x^*).\n",
    "$$\n",
    "\n",
    "This contradicts with the initial assumption that $x^*$ is a minimizer of this expression, so $x^*$ has to be Pareto optimal."
   ]
  },
  {
   "cell_type": "markdown",
   "metadata": {},
   "source": [
    "**B.**"
   ]
  },
  {
   "cell_type": "markdown",
   "metadata": {},
   "source": [
    "If we select $z^{ref} = f(x^*)$, we get the problem\n",
    "\n",
    "$$\n",
    "\\min_{x \\in S} \\left( \\max_{i=1}^k[f_i(x) - f_i(x^*)] \\right).\n",
    "$$\n",
    "\n",
    "Because $x^*$ is Pareto optimal,\n",
    "\n",
    "$$\n",
    "f_i(x^*) \\leq f_i(x) \\text{ for all } i \\in \\{1,\\ldots,k\\}\n",
    "$$\n",
    "\n",
    "for all feasible values of $x$. It follows that\n",
    "\n",
    "$$\n",
    "f_i(x) - f_i(x^*) \\geq 0 \\text{ for all } i \\in \\{1,\\ldots,k\\}\n",
    "$$\n",
    "\n",
    "and thus\n",
    "\n",
    "$$\n",
    "\\max_{i=1}^k[f_i(x) - f_i(x^*)] \\geq 0.\n",
    "$$\n",
    "\n",
    "Pareto optimality states that every feasible movement away from $x^*$ increases the value of some objective function, thereby increasing the maximum of all objective function values. Therefore the only point where the achievement scalarizing problem reaches its minimum $\\max_{i=1}^k[f_i(x) - f_i(x^*)] = 0$ is $x = x^*$.\n",
    "\n",
    "We have shown that a point $x^*$ being Pareto optimal implies that using $x^*$ as the reference point for the achievement scalarizing problem creates a problem which is minimized by $x^*$. Therefore at least one such reference point exists for every Pareto optimal point."
   ]
  },
  {
   "cell_type": "markdown",
   "metadata": {},
   "source": [
    "***"
   ]
  },
  {
   "cell_type": "markdown",
   "metadata": {},
   "source": [
    "2. **2 points** Think of a multiobjective optimization problem from your own life with at least three objectives. Model this problem using algebraic equations (decision variables, objective functions, constraints)."
   ]
  },
  {
   "cell_type": "markdown",
   "metadata": {},
   "source": [
    "***"
   ]
  },
  {
   "cell_type": "markdown",
   "metadata": {},
   "source": [
    "A problem I often struggle with is splitting my time between different hobbies and other activities. Let's define some of these activities as variables:\n",
    "\n",
    "* $w$ = work\n",
    "* $s$ = study / chores\n",
    "* $p$ = programming for fun\n",
    "* $m$ = playing music\n",
    "* $d$ = drawing\n",
    "* $z$ = sleep / rest\n",
    "\n",
    "I will model the problem of distributing these activities over a single day.\n",
    "\n",
    "First, there are some constraints. I need a minimum of 7 hours of sleep to get anything done, so $z \\geq 7$. I need to do some work and also some studying and housework every day; let's say $w \\geq 3$ and $s \\geq 1$. I also have a habit of drawing at least a little every day, so $d \\geq 0.2$. Finally, everything must happen within a day, so $w + s + p + m + d + z \\leq 24$, and we can't have negative time, so all $w, s, p, m, d, z \\geq 0$.\n",
    "\n",
    "In the normal form $g(x) \\geq 0$ these constraints become\n",
    "\n",
    "* $g_{day}(w,s,p,m,d,z) = 24 - w - s - p - m - d - z$\n",
    "* $g_{sleep}(w,s,p,m,d,z) = z - 7$\n",
    "* $g_{work}(w,s,p,m,d,z) = w - 3$\n",
    "* $g_{chore}(w,s,p,m,d,z) = s - 1$\n",
    "* $g_{draw}(w,s,p,m,d,z) = d - 0.5$\n",
    "\n",
    "(plus nonnegativity for each variable).\n",
    "\n",
    "Then we need objective functions to describe the value I get from each of the activities. Hyperbolic curves seem good for most, as the value I get from them keeps growing (thus objective functions decreasing) but with diminishing returns. Combining some activities into single objectives to make things a bit more interesting, let's say something like\n",
    "\n",
    "* $f_{duties}(w,s,p,m,d,z) = 2(w + s - 3)^{-1}$\n",
    "* $f_{hobbies}(w,s,p,m,d,z) = 3(5p + 2d + m)^{-1}$\n",
    "\n",
    "You can work more hours than you're paid for or sleep too much and make things worse, so a parabola seems like a good shape to describe these.\n",
    "\n",
    "* $f_{work}(w,s,p,m,d,z) = (w - 4.5)^2$\n",
    "* $f_{sleep}(w,s,p,m,d,z) = (z - 8)^2$"
   ]
  },
  {
   "cell_type": "markdown",
   "metadata": {},
   "source": [
    "Using these definitions, the full problem definition comes to\n",
    "\n",
    "$$\n",
    "\\begin{align}\n",
    "\\min & \\left\\{f_{duties}, f_{hobbies}, f_{work}, f_{sleep}\\right\\}\\\\\n",
    "\\text{s.t. } & g_i(x) \\geq 0 \\text{ for all } i \\in \\{ {day}, {sleep}, {work}, {chore}, {draw} \\}\n",
    "\\end{align}\n",
    "$$"
   ]
  },
  {
   "cell_type": "markdown",
   "metadata": {},
   "source": [
    "***"
   ]
  },
  {
   "cell_type": "markdown",
   "metadata": {},
   "source": [
    "3. **2 points** Use the WWW-NIMBUS software at https://wwwnimbus.it.jyu.fi/cgi-bin/N4/login.py to find preferable solutions to the problem. Describe how you inputted your problem and what kind of preference information (i.e. classification of objectives) you used when computing improved solutions starting from the initial solution. Analyse the results (i.e., write what you think about the solutions found)."
   ]
  },
  {
   "cell_type": "markdown",
   "metadata": {},
   "source": [
    "***"
   ]
  },
  {
   "cell_type": "markdown",
   "metadata": {},
   "source": [
    "I created a problem called \"time-management\" with 4 objective functions, 6 variables and 6 linear constraints. I inputted the objective functions as written above, but with variable names `xi`. Upper bounds don't matter much here as I have an upper bound constraint on the sum of all the variables, but I chose all variables' bounds between 0 and 24 and starting points at 4. The constraint functions needed a bit of refactoring from the above because the software only accepts inequalities of the form $a \\cdot x \\leq b$, so I moved the constant terms to the right and flipped the signs.\n",
    "\n",
    "On the first run I got an objective vector where the $f_{sleep}$ function was nearly zero and the rest were somewhat above. The highest value was that of $f_{work}$. I decided to keep $f_{sleep}$ where it was, as this is an important objective to keep the rest running smoothly in the long term, and try to improve $f_{work}$ more, allowing the other two functions to vary.\n",
    "\n",
    "This gave me alternatives that were all worse than the solution I already had. I decided to try again but allow $f_{sleep}$ to vary as well. For some reason this gave me some much better compromises without making $f_{sleep}$ worse at all. I selected the one with the smallest sum of all objectives and decided it wasn't going to get much better, so I stopped there. The variable values I got were approximately\n",
    "\n",
    "* $w = 4.50$\n",
    "* $s = 7.21$\n",
    "* $p = 3.79$\n",
    "* $m = 0.002$\n",
    "* $d = 0.50$\n",
    "* $z = 7.99$\n",
    "\n",
    "Looks like the rate of change on the quadratic objective functions is so fast that the other objectives didn't have much of an effect on them, causing the exact roots of each to be found. On a second run I would perhaps weight these with some fraction of 1 to give them more room to vary.\n",
    "\n",
    "The high value of $s$ suggests that the relative values of $f_{duties}$ and $f_{hobbies}$ weren't designed well. I think $f_{work}$ should slope down faster and perhaps start rising again later to introduce and upper limit on the amount of productive chore work that can be done. It's hard to decide these functions accurately, as the problem is not physically or mathematically based."
   ]
  },
  {
   "cell_type": "markdown",
   "metadata": {},
   "source": [
    "***"
   ]
  },
  {
   "cell_type": "markdown",
   "metadata": {},
   "source": [
    "4. **2 points** Solve optimization problem\n",
    "\n",
    "$$\n",
    "\\begin{align}\n",
    "\\min \\quad &\\log(x_1^2+1)+x_2^4+x_1x_3\\\\\n",
    "\\text{s.t. }\\quad &x_1^3-x_2^2\\geq 1\\\\\n",
    "& x_1,x_3\\geq 0, \\ x_2\\in\\mathbb R\n",
    "\\end{align}\n",
    "$$\n",
    "\n",
    "using Pyomo. Analyze carefully the result you got."
   ]
  },
  {
   "cell_type": "markdown",
   "metadata": {},
   "source": [
    "***"
   ]
  },
  {
   "cell_type": "code",
   "execution_count": 2,
   "metadata": {},
   "outputs": [
    {
     "name": "stdout",
     "output_type": "stream",
     "text": [
      "WARNING: Could not locate the 'ipopt' executable, which is required for solver\n",
      "    ipopt\n"
     ]
    },
    {
     "ename": "ApplicationError",
     "evalue": "No executable found for solver 'ipopt'",
     "output_type": "error",
     "traceback": [
      "\u001b[0;31m---------------------------------------------------------------------------\u001b[0m",
      "\u001b[0;31mApplicationError\u001b[0m                          Traceback (most recent call last)",
      "\u001b[0;32m<ipython-input-2-8d5fd44345a9>\u001b[0m in \u001b[0;36m<module>\u001b[0;34m\u001b[0m\n\u001b[1;32m     17\u001b[0m \u001b[0;34m\u001b[0m\u001b[0m\n\u001b[1;32m     18\u001b[0m \u001b[0mopt\u001b[0m \u001b[0;34m=\u001b[0m \u001b[0mSolverFactory\u001b[0m\u001b[0;34m(\u001b[0m\u001b[0;34m\"ipopt\"\u001b[0m\u001b[0;34m,\u001b[0m \u001b[0msolver_io\u001b[0m\u001b[0;34m=\u001b[0m\u001b[0;34m\"nl\"\u001b[0m\u001b[0;34m)\u001b[0m\u001b[0;34m\u001b[0m\u001b[0;34m\u001b[0m\u001b[0m\n\u001b[0;32m---> 19\u001b[0;31m \u001b[0mopt\u001b[0m\u001b[0;34m.\u001b[0m\u001b[0msolve\u001b[0m\u001b[0;34m(\u001b[0m\u001b[0mmodel\u001b[0m\u001b[0;34m,\u001b[0m \u001b[0mtee\u001b[0m\u001b[0;34m=\u001b[0m\u001b[0;32mTrue\u001b[0m\u001b[0;34m)\u001b[0m\u001b[0;34m\u001b[0m\u001b[0;34m\u001b[0m\u001b[0m\n\u001b[0m\u001b[1;32m     20\u001b[0m \u001b[0mprint\u001b[0m\u001b[0;34m(\u001b[0m\u001b[0;34m\"\"\u001b[0m\u001b[0;34m)\u001b[0m\u001b[0;34m\u001b[0m\u001b[0;34m\u001b[0m\u001b[0m\n\u001b[1;32m     21\u001b[0m \u001b[0mprint\u001b[0m\u001b[0;34m(\u001b[0m\u001b[0;34m\"Solution:\"\u001b[0m\u001b[0;34m)\u001b[0m\u001b[0;34m\u001b[0m\u001b[0;34m\u001b[0m\u001b[0m\n",
      "\u001b[0;32m/nix/store/9a1wc3iffb3ak6cc035wmqp8cbvf5d8s-python3-3.7.6-env/lib/python3.7/site-packages/pyomo/opt/base/solvers.py\u001b[0m in \u001b[0;36msolve\u001b[0;34m(self, *args, **kwds)\u001b[0m\n\u001b[1;32m    510\u001b[0m         \u001b[0;34m\"\"\" Solve the problem \"\"\"\u001b[0m\u001b[0;34m\u001b[0m\u001b[0;34m\u001b[0m\u001b[0m\n\u001b[1;32m    511\u001b[0m \u001b[0;34m\u001b[0m\u001b[0m\n\u001b[0;32m--> 512\u001b[0;31m         \u001b[0mself\u001b[0m\u001b[0;34m.\u001b[0m\u001b[0mavailable\u001b[0m\u001b[0;34m(\u001b[0m\u001b[0mexception_flag\u001b[0m\u001b[0;34m=\u001b[0m\u001b[0;32mTrue\u001b[0m\u001b[0;34m)\u001b[0m\u001b[0;34m\u001b[0m\u001b[0;34m\u001b[0m\u001b[0m\n\u001b[0m\u001b[1;32m    513\u001b[0m         \u001b[0;31m#\u001b[0m\u001b[0;34m\u001b[0m\u001b[0;34m\u001b[0m\u001b[0;34m\u001b[0m\u001b[0m\n\u001b[1;32m    514\u001b[0m         \u001b[0;31m# If the inputs are models, then validate that they have been\u001b[0m\u001b[0;34m\u001b[0m\u001b[0;34m\u001b[0m\u001b[0;34m\u001b[0m\u001b[0m\n",
      "\u001b[0;32m/nix/store/9a1wc3iffb3ak6cc035wmqp8cbvf5d8s-python3-3.7.6-env/lib/python3.7/site-packages/pyomo/opt/solver/shellcmd.py\u001b[0m in \u001b[0;36mavailable\u001b[0;34m(self, exception_flag)\u001b[0m\n\u001b[1;32m    124\u001b[0m             \u001b[0;32mif\u001b[0m \u001b[0mexception_flag\u001b[0m\u001b[0;34m:\u001b[0m\u001b[0;34m\u001b[0m\u001b[0;34m\u001b[0m\u001b[0m\n\u001b[1;32m    125\u001b[0m                 \u001b[0mmsg\u001b[0m \u001b[0;34m=\u001b[0m \u001b[0;34m\"No executable found for solver '%s'\"\u001b[0m\u001b[0;34m\u001b[0m\u001b[0;34m\u001b[0m\u001b[0m\n\u001b[0;32m--> 126\u001b[0;31m                 \u001b[0;32mraise\u001b[0m \u001b[0mApplicationError\u001b[0m\u001b[0;34m(\u001b[0m\u001b[0mmsg\u001b[0m \u001b[0;34m%\u001b[0m \u001b[0mself\u001b[0m\u001b[0;34m.\u001b[0m\u001b[0mname\u001b[0m\u001b[0;34m)\u001b[0m\u001b[0;34m\u001b[0m\u001b[0;34m\u001b[0m\u001b[0m\n\u001b[0m\u001b[1;32m    127\u001b[0m             \u001b[0;32mreturn\u001b[0m \u001b[0;32mFalse\u001b[0m\u001b[0;34m\u001b[0m\u001b[0;34m\u001b[0m\u001b[0m\n\u001b[1;32m    128\u001b[0m         \u001b[0;32mreturn\u001b[0m \u001b[0;32mTrue\u001b[0m\u001b[0;34m\u001b[0m\u001b[0;34m\u001b[0m\u001b[0m\n",
      "\u001b[0;31mApplicationError\u001b[0m: No executable found for solver 'ipopt'"
     ]
    }
   ],
   "source": [
    "from pyomo.environ import *\n",
    "\n",
    "# problem setup\n",
    "\n",
    "model = ConcreteModel()\n",
    "\n",
    "# second row of constraints baked into the variable bounds\n",
    "model.x1 = Var(initialize=1.0, within=PositiveReals)\n",
    "model.x2 = Var(initialize=1.0, within=Reals)\n",
    "model.x3 = Var(initialize=1.0, within=PositiveReals)\n",
    "\n",
    "model.g1 = Constraint(expr=(model.x1**3 - model.x3**2 >= 1))\n",
    "\n",
    "model.obj = Objective(expr=(log(model.x1**2 + 1) + model.x2**4 + model.x1 * model.x3))\n",
    "\n",
    "# solve\n",
    "\n",
    "opt = SolverFactory(\"ipopt\", solver_io=\"nl\")\n",
    "opt.solve(model, tee=True)\n",
    "print(\"\")\n",
    "print(\"Solution:\")\n",
    "print(f\"x1: {model.x1}, x2: {model.x2}, x3: {model.x3}\")\n"
   ]
  },
  {
   "cell_type": "markdown",
   "metadata": {},
   "source": [
    "Unfortunately I can't see the result or analyze it because I wasn't able to get `ipopt` to build its executable (it only builds a C library no matter what I do), and installing `baron` on NixOS would require patching it with `patchElf` which I'm not familiar with and don't have time to learn. Instead of wasting even more time on this I'll just take the loss on the exercise points."
   ]
  }
 ],
 "metadata": {
  "anaconda-cloud": {},
  "kernelspec": {
   "display_name": "Python 3",
   "language": "python",
   "name": "python3"
  },
  "language_info": {
   "codemirror_mode": {
    "name": "ipython",
    "version": 3
   },
   "file_extension": ".py",
   "mimetype": "text/x-python",
   "name": "python",
   "nbconvert_exporter": "python",
   "pygments_lexer": "ipython3",
   "version": "3.7.6"
  }
 },
 "nbformat": 4,
 "nbformat_minor": 1
}
