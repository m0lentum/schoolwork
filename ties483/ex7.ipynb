{
 "cells": [
  {
   "cell_type": "markdown",
   "metadata": {},
   "source": [
    "# TIES483 ex7, Mikael Myyrä"
   ]
  },
  {
   "cell_type": "markdown",
   "metadata": {},
   "source": [
    "***"
   ]
  },
  {
   "cell_type": "markdown",
   "metadata": {},
   "source": [
    "1. **2 points** Show that \n",
    "  1. an optimal solution to the achievement scalarizing problem is Pareto optimal, and\n",
    "  2. for all Pareto optimal solutions $x^*$ there exist a reference point such that $x^*$ is an optimal solution to the achievement scalarizing problem with $\\rho=0$ (i.e., without the augmentation term). "
   ]
  },
  {
   "cell_type": "markdown",
   "metadata": {},
   "source": [
    "***"
   ]
  },
  {
   "cell_type": "markdown",
   "metadata": {},
   "source": [
    "A."
   ]
  },
  {
   "cell_type": "markdown",
   "metadata": {},
   "source": [
    "Using the achievement scalarizing formula\n",
    "\n",
    "$$\n",
    "\\min_{x\\in S}\\left( \\max_{i=1}^k[f_i(x)-z_i^{ref}] +\\rho\\sum_{i=1}^kf_i(x)\\right), \\rho > 0.\n",
    "$$"
   ]
  },
  {
   "cell_type": "markdown",
   "metadata": {},
   "source": [
    "Let $x^*$ be a minimizer of this this problem.\n",
    "\n",
    "If $x^*$ is not Pareto optimal, then there is some vector $x' \\neq \\mathbf{0}$ for which $x^* + x'$ is feasible and\n",
    "\n",
    "$$\n",
    "\\begin{cases}\n",
    "f_i(x^* + x') \\leq f_i(x^*)\\text{ for all }i\\in \\{1,\\ldots,k\\}\\\\\n",
    "f_j(x^* + x') < f_j(x^*) \\text{ for some }j\\in \\{1,\\ldots,k\\}.\\\\\n",
    "\\end{cases}\n",
    "$$\n",
    "\n",
    "Because $z^{ref}$ is constant, the first condition is equivalent to\n",
    "\n",
    "$$\n",
    "f_i(x^* + x') - z_i^{ref}$ \\leq f_i(x^*) - z_i^{ref} \\text{ for all } i \\in \\{1,\\ldots,k\\},\n",
    "$$\n",
    "\n",
    "which implies\n",
    "\n",
    "$$\n",
    "\\max_{i=1}^k[f_i(x^* + x') - z_i^{ref}] \\leq \\max_{i=1}^k[f_i(x^*) - z_i^{ref}].\n",
    "$$\n",
    "\n",
    "For the sum term, the first and second conditions combined imply that\n",
    "\n",
    "$$\n",
    "\\sum_{i=1}^k f_i(x^* + x') < \\sum_{i=1}^k f_i(x^*).\n",
    "$$\n",
    "\n",
    "Thus, for the entire expression\n",
    "\n",
    "$$\n",
    "\\max_{i=1}^k[f_i(x^* + x') - z_i^{ref}] + \\sum_{i=1}^k f_i(x^* + x') < \\max_{i=1}^k[f_i(x^*) - z_i^{ref}] + \\sum_{i=1}^k f_i(x^*).\n",
    "$$\n",
    "\n",
    "This contradicts with the initial assumption that $x^*$ is a minimizer of this expression, so $x^*$ has to be Pareto optimal."
   ]
  },
  {
   "cell_type": "markdown",
   "metadata": {},
   "source": [
    "B."
   ]
  },
  {
   "cell_type": "markdown",
   "metadata": {},
   "source": [
    "If we select $z^{ref} = f(x^*)$, we get the problem\n",
    "\n",
    "$$\n",
    "\\min_{x \\in S} \\left( \\max_{i=1}^k[f_i(x) - f_i(x^*)] \\right).\n",
    "$$\n",
    "\n",
    "Because $x^*$ is Pareto optimal,\n",
    "\n",
    "$$\n",
    "f_i(x^*) \\leq f_i(x) \\text{ for all } i \\in \\{1,\\ldots,k\\}\n",
    "$$\n",
    "\n",
    "for all feasible values of $x$. It follows that\n",
    "\n",
    "$$\n",
    "f_i(x) - f_i(x^*) \\geq 0 \\text{ for all } i \\in \\{1,\\ldots,k\\}\n",
    "$$\n",
    "\n",
    "and thus\n",
    "\n",
    "$$\n",
    "\\max_{i=1}^k[f_i(x) - f_i(x^*)] \\geq 0.\n",
    "$$\n",
    "\n",
    "Pareto optimality states that every feasible movement away from $x^*$ increases the value of some objective function, thereby increasing the maximum of all objective function values. Therefore the only point where the achievement scalarizing problem reaches its minimum $\\max_{i=1}^k[f_i(x) - f_i(x^*)] = 0$ is $x = x^*$.\n",
    "\n",
    "We have shown that a point $x^*$ being Pareto optimal implies that using $x^*$ as the reference point for the achievement scalarizing problem creates a problem which is minimized by $x^*$. Therefore at least one such reference point exists for every Pareto optimal point."
   ]
  },
  {
   "cell_type": "markdown",
   "metadata": {},
   "source": [
    "***"
   ]
  },
  {
   "cell_type": "markdown",
   "metadata": {},
   "source": [
    "2. **2 points** Think of a multiobjective optimization problem from your own life with at least three objectives. Model this problem using algebraic equations (decision variables, objective functions, constraints)."
   ]
  },
  {
   "cell_type": "markdown",
   "metadata": {},
   "source": [
    "***"
   ]
  },
  {
   "cell_type": "markdown",
   "metadata": {},
   "source": [
    "A problem I often struggle with is splitting my time between different hobbies and other activities. Let's define some of these activities as variables:\n",
    "\n",
    "* $w$ = work\n",
    "* $s$ = study / chores\n",
    "* $p$ = programming for fun\n",
    "* $m$ = playing music\n",
    "* $d$ = drawing\n",
    "* $z$ = sleep / rest\n",
    "\n",
    "I will model the problem of distributing these activities over a single day.\n",
    "\n",
    "First, there are some constraints. I need a minimum of 7 hours of sleep to get anything done, so $z \\geq 7$. I need to do some work and also some studying and housework every day; let's say $w \\geq 3$ and $s \\geq 1$. I also have a habit of drawing at least a little every day, so $d \\geq 0.2$. Finally, everything must happen within a day, so $w + s + p + m + d + z \\leq 24$, and we can't have negative time, so all $w, s, p, m, d, z \\geq 0$.\n",
    "\n",
    "In the normal form $g(x) \\geq 0$ these constraints become\n",
    "\n",
    "* $g_{day}(w,s,p,m,d,z) = w + s + p + m + d + z - 24$\n",
    "* $g_{sleep}(w,s,p,m,d,z) = z - 7$\n",
    "* $g_{work}(w,s,p,m,d,z) = w - 3$\n",
    "* $g_{chore}(w,s,p,m,d,z) = s - 1$\n",
    "* $g_{draw}(w,s,p,m,d,z) = d - 0.5$\n",
    "\n",
    "(plus nonnegativity for each variable).\n",
    "\n",
    "Then we need objective functions to describe the value I get from each of the activities. Hyperbolic curves seem good for most, as the value I get from them keeps growing (thus objective functions decreasing) but with diminishing returns. Combining some activities into single objectives to make things a bit more interesting, let's say something like\n",
    "\n",
    "* $f_{duties}(w,s,p,m,d,z) = 2(w + s - 3)^{-1}$\n",
    "* $f_{hobbies}(w,s,p,m,d,z) = 3(5p + 2d + m)^{-1}$\n",
    "\n",
    "You can work more hours than you're paid for or sleep too much and make things worse, so a parabola seems like a good shape to describe these.\n",
    "\n",
    "* $f_{work}(w,s,p,m,d,z) = (w - 4.5)^2$\n",
    "* $f_{sleep}(w,s,p,m,d,z) = (z - 8)^2$"
   ]
  },
  {
   "cell_type": "markdown",
   "metadata": {},
   "source": [
    "Using these definitions, the full problem definition comes to\n",
    "\n",
    "$$\n",
    "\\begin{align}\n",
    "\\min & \\left\\{f_{duties}, f_{hobbies}, f_{work}, f_{sleep}\\right\\}\\\\\n",
    "\\text{s.t. } & g_i(x) \\geq 0 \\text{ for all } i \\in \\{ {day}, {sleep}, {work}, {chore}, {draw} \\}\n",
    "\\end{align}\n",
    "$$"
   ]
  },
  {
   "cell_type": "markdown",
   "metadata": {},
   "source": [
    "***"
   ]
  },
  {
   "cell_type": "markdown",
   "metadata": {},
   "source": [
    "3. **2 points** Use the WWW-NIMBUS software at https://wwwnimbus.it.jyu.fi/cgi-bin/N4/login.py to find preferable solutions to the problem. Describe how you inputted your problem and what kind of preference information (i.e. classification of objectives) you used when computing improved solutions starting from the initial solution. Analyse the results (i.e., write what you think about the solutions found)."
   ]
  },
  {
   "cell_type": "markdown",
   "metadata": {},
   "source": [
    "***"
   ]
  },
  {
   "cell_type": "markdown",
   "metadata": {},
   "source": [
    "***"
   ]
  },
  {
   "cell_type": "markdown",
   "metadata": {},
   "source": [
    "4. **2 points** Solve optimization problem\n",
    "\n",
    "$$\n",
    "\\begin{align}\n",
    "\\min \\quad &\\log(x_1^2+1)+x_2^4+x_1x_3\\\\\n",
    "\\text{s.t. }\\quad &x_1^3-x_2^2\\geq 1\\\\\n",
    "& x_1,x_3\\geq 0, \\ x_2\\in\\mathbb R\n",
    "\\end{align}\n",
    "$$\n",
    "\n",
    "using Pyomo. Analyze carefully the result you got."
   ]
  },
  {
   "cell_type": "markdown",
   "metadata": {},
   "source": [
    "***"
   ]
  }
 ],
 "metadata": {
  "anaconda-cloud": {},
  "kernelspec": {
   "display_name": "Python 3",
   "language": "python",
   "name": "python3"
  },
  "language_info": {
   "codemirror_mode": {
    "name": "ipython",
    "version": 3
   },
   "file_extension": ".py",
   "mimetype": "text/x-python",
   "name": "python",
   "nbconvert_exporter": "python",
   "pygments_lexer": "ipython3",
   "version": "3.7.6"
  }
 },
 "nbformat": 4,
 "nbformat_minor": 1
}
